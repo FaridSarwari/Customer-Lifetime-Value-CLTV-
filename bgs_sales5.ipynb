{
 "cells": [
  {
   "cell_type": "markdown",
   "metadata": {},
   "source": [
    "#### 1. Data Preprocessing\n",
    "##### Importing of necessary liberaries and our dataset, which is presently stored in a csv file format, titled 'giant order dump.csv'.The columns of the dataset are not helpful and we look to rename these to conventional column names that we are used to working with."
   ]
  },
  {
   "cell_type": "code",
   "execution_count": 251,
   "metadata": {},
   "outputs": [],
   "source": [
    "import pandas as pd\n",
    "import numpy as np\n",
    "import matplotlib.pyplot as plt"
   ]
  },
  {
   "cell_type": "code",
   "execution_count": 252,
   "metadata": {},
   "outputs": [
    {
     "name": "stderr",
     "output_type": "stream",
     "text": [
      "C:\\Users\\FaridSarwari\\anaconda3\\lib\\site-packages\\IPython\\core\\interactiveshell.py:3146: DtypeWarning: Columns (1,2) have mixed types.Specify dtype option on import or set low_memory=False.\n",
      "  has_raised = await self.run_ast_nodes(code_ast.body, cell_name,\n"
     ]
    },
    {
     "data": {
      "text/html": [
       "<div>\n",
       "<style scoped>\n",
       "    .dataframe tbody tr th:only-of-type {\n",
       "        vertical-align: middle;\n",
       "    }\n",
       "\n",
       "    .dataframe tbody tr th {\n",
       "        vertical-align: top;\n",
       "    }\n",
       "\n",
       "    .dataframe thead th {\n",
       "        text-align: right;\n",
       "    }\n",
       "</style>\n",
       "<table border=\"1\" class=\"dataframe\">\n",
       "  <thead>\n",
       "    <tr style=\"text-align: right;\">\n",
       "      <th></th>\n",
       "      <th>customer_id</th>\n",
       "      <th>order</th>\n",
       "      <th>total_sales</th>\n",
       "      <th>date</th>\n",
       "      <th>site</th>\n",
       "    </tr>\n",
       "  </thead>\n",
       "  <tbody>\n",
       "    <tr>\n",
       "      <th>0</th>\n",
       "      <td>CanonicalUserID</td>\n",
       "      <td>OrderID</td>\n",
       "      <td>TotalIncTax</td>\n",
       "      <td>WhenPlaced</td>\n",
       "      <td>SiteID</td>\n",
       "    </tr>\n",
       "    <tr>\n",
       "      <th>1</th>\n",
       "      <td>A5DDA420-302C-49C1-A85F-00010646EF9F</td>\n",
       "      <td>1000586</td>\n",
       "      <td>117.11</td>\n",
       "      <td>13/10/2019 13:20</td>\n",
       "      <td>NLB2C</td>\n",
       "    </tr>\n",
       "    <tr>\n",
       "      <th>2</th>\n",
       "      <td>18DBDE67-B2B3-4DA4-84F4-0003289438DF</td>\n",
       "      <td>1465844</td>\n",
       "      <td>45.4</td>\n",
       "      <td>29/08/2021 12:36</td>\n",
       "      <td>NLB2C</td>\n",
       "    </tr>\n",
       "    <tr>\n",
       "      <th>3</th>\n",
       "      <td>D10B31A4-D79A-42BB-BBB5-0004434B7E1E</td>\n",
       "      <td>1326466</td>\n",
       "      <td>63.49</td>\n",
       "      <td>08/02/2021 11:49</td>\n",
       "      <td>UKB2C</td>\n",
       "    </tr>\n",
       "    <tr>\n",
       "      <th>4</th>\n",
       "      <td>D10B31A4-D79A-42BB-BBB5-0004434B7E1E</td>\n",
       "      <td>1422717</td>\n",
       "      <td>28</td>\n",
       "      <td>23/06/2021 22:27</td>\n",
       "      <td>UKB2C</td>\n",
       "    </tr>\n",
       "  </tbody>\n",
       "</table>\n",
       "</div>"
      ],
      "text/plain": [
       "                            customer_id    order  total_sales  \\\n",
       "0                       CanonicalUserID  OrderID  TotalIncTax   \n",
       "1  A5DDA420-302C-49C1-A85F-00010646EF9F  1000586       117.11   \n",
       "2  18DBDE67-B2B3-4DA4-84F4-0003289438DF  1465844         45.4   \n",
       "3  D10B31A4-D79A-42BB-BBB5-0004434B7E1E  1326466        63.49   \n",
       "4  D10B31A4-D79A-42BB-BBB5-0004434B7E1E  1422717           28   \n",
       "\n",
       "               date    site  \n",
       "0        WhenPlaced  SiteID  \n",
       "1  13/10/2019 13:20   NLB2C  \n",
       "2  29/08/2021 12:36   NLB2C  \n",
       "3  08/02/2021 11:49   UKB2C  \n",
       "4  23/06/2021 22:27   UKB2C  "
      ]
     },
     "execution_count": 252,
     "metadata": {},
     "output_type": "execute_result"
    }
   ],
   "source": [
    "col_names = ['customer_id', 'order', 'total_sales', 'date', 'site' ]\n",
    "\n",
    "bgs_raw = pd.read_csv(\"giant order dump.csv\", names = col_names , parse_dates=[3])\n",
    "bgs_raw.head()"
   ]
  },
  {
   "cell_type": "code",
   "execution_count": 255,
   "metadata": {},
   "outputs": [
    {
     "data": {
      "text/html": [
       "<div>\n",
       "<style scoped>\n",
       "    .dataframe tbody tr th:only-of-type {\n",
       "        vertical-align: middle;\n",
       "    }\n",
       "\n",
       "    .dataframe tbody tr th {\n",
       "        vertical-align: top;\n",
       "    }\n",
       "\n",
       "    .dataframe thead th {\n",
       "        text-align: right;\n",
       "    }\n",
       "</style>\n",
       "<table border=\"1\" class=\"dataframe\">\n",
       "  <thead>\n",
       "    <tr style=\"text-align: right;\">\n",
       "      <th></th>\n",
       "      <th>customer_id</th>\n",
       "      <th>order</th>\n",
       "      <th>total_sales</th>\n",
       "      <th>date</th>\n",
       "      <th>site</th>\n",
       "    </tr>\n",
       "  </thead>\n",
       "  <tbody>\n",
       "    <tr>\n",
       "      <th>1</th>\n",
       "      <td>A5DDA420-302C-49C1-A85F-00010646EF9F</td>\n",
       "      <td>1000586</td>\n",
       "      <td>117.11</td>\n",
       "      <td>13/10/2019 13:20</td>\n",
       "      <td>NLB2C</td>\n",
       "    </tr>\n",
       "    <tr>\n",
       "      <th>2</th>\n",
       "      <td>18DBDE67-B2B3-4DA4-84F4-0003289438DF</td>\n",
       "      <td>1465844</td>\n",
       "      <td>45.4</td>\n",
       "      <td>29/08/2021 12:36</td>\n",
       "      <td>NLB2C</td>\n",
       "    </tr>\n",
       "    <tr>\n",
       "      <th>3</th>\n",
       "      <td>D10B31A4-D79A-42BB-BBB5-0004434B7E1E</td>\n",
       "      <td>1326466</td>\n",
       "      <td>63.49</td>\n",
       "      <td>08/02/2021 11:49</td>\n",
       "      <td>UKB2C</td>\n",
       "    </tr>\n",
       "    <tr>\n",
       "      <th>4</th>\n",
       "      <td>D10B31A4-D79A-42BB-BBB5-0004434B7E1E</td>\n",
       "      <td>1422717</td>\n",
       "      <td>28</td>\n",
       "      <td>23/06/2021 22:27</td>\n",
       "      <td>UKB2C</td>\n",
       "    </tr>\n",
       "    <tr>\n",
       "      <th>5</th>\n",
       "      <td>094F69A9-34AA-4196-952D-000467E02E8B</td>\n",
       "      <td>746149</td>\n",
       "      <td>67.67</td>\n",
       "      <td>03/01/2018 20:22</td>\n",
       "      <td>UKB2C</td>\n",
       "    </tr>\n",
       "  </tbody>\n",
       "</table>\n",
       "</div>"
      ],
      "text/plain": [
       "                            customer_id    order total_sales  \\\n",
       "1  A5DDA420-302C-49C1-A85F-00010646EF9F  1000586      117.11   \n",
       "2  18DBDE67-B2B3-4DA4-84F4-0003289438DF  1465844        45.4   \n",
       "3  D10B31A4-D79A-42BB-BBB5-0004434B7E1E  1326466       63.49   \n",
       "4  D10B31A4-D79A-42BB-BBB5-0004434B7E1E  1422717          28   \n",
       "5  094F69A9-34AA-4196-952D-000467E02E8B   746149       67.67   \n",
       "\n",
       "               date   site  \n",
       "1  13/10/2019 13:20  NLB2C  \n",
       "2  29/08/2021 12:36  NLB2C  \n",
       "3  08/02/2021 11:49  UKB2C  \n",
       "4  23/06/2021 22:27  UKB2C  \n",
       "5  03/01/2018 20:22  UKB2C  "
      ]
     },
     "execution_count": 255,
     "metadata": {},
     "output_type": "execute_result"
    }
   ],
   "source": [
    "### Our existing columns have also been imported into the dataframe, we would just select data from the first row\n",
    "\n",
    "bgs_raw_df = bgs_raw.iloc[1:, : ]\n",
    "bgs_raw_df.head()"
   ]
  },
  {
   "cell_type": "code",
   "execution_count": 257,
   "metadata": {},
   "outputs": [
    {
     "data": {
      "text/plain": [
       "customer_id    object\n",
       "order          object\n",
       "total_sales    object\n",
       "date           object\n",
       "site           object\n",
       "dtype: object"
      ]
     },
     "execution_count": 257,
     "metadata": {},
     "output_type": "execute_result"
    }
   ],
   "source": [
    "### Date column we would need to tranform to Datetime and Total_sales should be an intger or float\n",
    "\n",
    "bgs_raw.dtypes"
   ]
  },
  {
   "cell_type": "code",
   "execution_count": 259,
   "metadata": {},
   "outputs": [
    {
     "data": {
      "text/plain": [
       "array(['NLB2C', 'UKB2C', 'DEB2C', 'FRB2C'], dtype=object)"
      ]
     },
     "execution_count": 259,
     "metadata": {},
     "output_type": "execute_result"
    }
   ],
   "source": [
    "### There are 4 unique site IDs correseponding to the difference regions where the revenue is measured. \n",
    "\n",
    "### Revenue for UK2BC is measured in GBP, whereas the other sites revenue is measured in EUR, so we would to convert the revenue from other EU sites to GBP, by implementing an exchange rate scalar to the Total_sales column.\n",
    "\n",
    "bgs_raw_df.site.unique()"
   ]
  },
  {
   "cell_type": "code",
   "execution_count": 260,
   "metadata": {},
   "outputs": [
    {
     "name": "stderr",
     "output_type": "stream",
     "text": [
      "<ipython-input-260-408985d75ad4>:3: SettingWithCopyWarning: \n",
      "A value is trying to be set on a copy of a slice from a DataFrame.\n",
      "Try using .loc[row_indexer,col_indexer] = value instead\n",
      "\n",
      "See the caveats in the documentation: https://pandas.pydata.org/pandas-docs/stable/user_guide/indexing.html#returning-a-view-versus-a-copy\n",
      "  bgs_raw_df['date'] = pd.to_datetime(bgs_raw_df['date'], format= '%d/%m/%Y %H:%M')\n"
     ]
    }
   ],
   "source": [
    "## Transform date to datetime\n",
    "\n",
    "bgs_raw_df['date'] = pd.to_datetime(bgs_raw_df['date'], format= '%d/%m/%Y %H:%M')"
   ]
  },
  {
   "cell_type": "code",
   "execution_count": 264,
   "metadata": {},
   "outputs": [
    {
     "name": "stderr",
     "output_type": "stream",
     "text": [
      "<ipython-input-264-8aa167586f56>:4: SettingWithCopyWarning: \n",
      "A value is trying to be set on a copy of a slice from a DataFrame.\n",
      "Try using .loc[row_indexer,col_indexer] = value instead\n",
      "\n",
      "See the caveats in the documentation: https://pandas.pydata.org/pandas-docs/stable/user_guide/indexing.html#returning-a-view-versus-a-copy\n",
      "  bgs_raw_df['total_sales'] = pd.to_numeric(bgs_raw_df['total_sales'])\n"
     ]
    }
   ],
   "source": [
    "## Tansform 'Total_sales' to an integer or float so that we are apply numerical transformations\n",
    "\n",
    "\n",
    "bgs_raw_df['total_sales'] = pd.to_numeric(bgs_raw_df['total_sales'])"
   ]
  },
  {
   "cell_type": "code",
   "execution_count": 262,
   "metadata": {},
   "outputs": [
    {
     "data": {
      "text/plain": [
       "customer_id            object\n",
       "order                  object\n",
       "total_sales           float64\n",
       "date           datetime64[ns]\n",
       "site                   object\n",
       "dtype: object"
      ]
     },
     "execution_count": 262,
     "metadata": {},
     "output_type": "execute_result"
    }
   ],
   "source": [
    "bgs_raw_df.dtypes"
   ]
  },
  {
   "cell_type": "code",
   "execution_count": 92,
   "metadata": {},
   "outputs": [
    {
     "data": {
      "text/html": [
       "<div>\n",
       "<style scoped>\n",
       "    .dataframe tbody tr th:only-of-type {\n",
       "        vertical-align: middle;\n",
       "    }\n",
       "\n",
       "    .dataframe tbody tr th {\n",
       "        vertical-align: top;\n",
       "    }\n",
       "\n",
       "    .dataframe thead th {\n",
       "        text-align: right;\n",
       "    }\n",
       "</style>\n",
       "<table border=\"1\" class=\"dataframe\">\n",
       "  <thead>\n",
       "    <tr style=\"text-align: right;\">\n",
       "      <th></th>\n",
       "      <th>customer_id</th>\n",
       "      <th>order</th>\n",
       "      <th>total_sales</th>\n",
       "      <th>date</th>\n",
       "      <th>site</th>\n",
       "    </tr>\n",
       "  </thead>\n",
       "  <tbody>\n",
       "    <tr>\n",
       "      <th>1</th>\n",
       "      <td>A5DDA420-302C-49C1-A85F-00010646EF9F</td>\n",
       "      <td>1000586</td>\n",
       "      <td>117.11</td>\n",
       "      <td>2019-10-13 13:20:00</td>\n",
       "      <td>NLB2C</td>\n",
       "    </tr>\n",
       "    <tr>\n",
       "      <th>2</th>\n",
       "      <td>18DBDE67-B2B3-4DA4-84F4-0003289438DF</td>\n",
       "      <td>1465844</td>\n",
       "      <td>45.40</td>\n",
       "      <td>2021-08-29 12:36:00</td>\n",
       "      <td>NLB2C</td>\n",
       "    </tr>\n",
       "    <tr>\n",
       "      <th>3</th>\n",
       "      <td>D10B31A4-D79A-42BB-BBB5-0004434B7E1E</td>\n",
       "      <td>1326466</td>\n",
       "      <td>63.49</td>\n",
       "      <td>2021-02-08 11:49:00</td>\n",
       "      <td>UKB2C</td>\n",
       "    </tr>\n",
       "    <tr>\n",
       "      <th>4</th>\n",
       "      <td>D10B31A4-D79A-42BB-BBB5-0004434B7E1E</td>\n",
       "      <td>1422717</td>\n",
       "      <td>28.00</td>\n",
       "      <td>2021-06-23 22:27:00</td>\n",
       "      <td>UKB2C</td>\n",
       "    </tr>\n",
       "    <tr>\n",
       "      <th>5</th>\n",
       "      <td>094F69A9-34AA-4196-952D-000467E02E8B</td>\n",
       "      <td>746149</td>\n",
       "      <td>67.67</td>\n",
       "      <td>2018-01-03 20:22:00</td>\n",
       "      <td>UKB2C</td>\n",
       "    </tr>\n",
       "  </tbody>\n",
       "</table>\n",
       "</div>"
      ],
      "text/plain": [
       "                            customer_id    order  total_sales  \\\n",
       "1  A5DDA420-302C-49C1-A85F-00010646EF9F  1000586       117.11   \n",
       "2  18DBDE67-B2B3-4DA4-84F4-0003289438DF  1465844        45.40   \n",
       "3  D10B31A4-D79A-42BB-BBB5-0004434B7E1E  1326466        63.49   \n",
       "4  D10B31A4-D79A-42BB-BBB5-0004434B7E1E  1422717        28.00   \n",
       "5  094F69A9-34AA-4196-952D-000467E02E8B   746149        67.67   \n",
       "\n",
       "                 date   site  \n",
       "1 2019-10-13 13:20:00  NLB2C  \n",
       "2 2021-08-29 12:36:00  NLB2C  \n",
       "3 2021-02-08 11:49:00  UKB2C  \n",
       "4 2021-06-23 22:27:00  UKB2C  \n",
       "5 2018-01-03 20:22:00  UKB2C  "
      ]
     },
     "execution_count": 92,
     "metadata": {},
     "output_type": "execute_result"
    }
   ],
   "source": [
    "bgs_raw_df.head()"
   ]
  },
  {
   "cell_type": "markdown",
   "metadata": {},
   "source": [
    "#### Creating a month-year column to groupby month"
   ]
  },
  {
   "cell_type": "code",
   "execution_count": 93,
   "metadata": {},
   "outputs": [
    {
     "name": "stderr",
     "output_type": "stream",
     "text": [
      "<ipython-input-93-b94da4d9e08e>:1: SettingWithCopyWarning: \n",
      "A value is trying to be set on a copy of a slice from a DataFrame.\n",
      "Try using .loc[row_indexer,col_indexer] = value instead\n",
      "\n",
      "See the caveats in the documentation: https://pandas.pydata.org/pandas-docs/stable/user_guide/indexing.html#returning-a-view-versus-a-copy\n",
      "  bgs_raw_df['month_yr'] =bgs_raw_df['date'].apply(lambda x: x.strftime('%b-%Y'))\n"
     ]
    },
    {
     "data": {
      "text/html": [
       "<div>\n",
       "<style scoped>\n",
       "    .dataframe tbody tr th:only-of-type {\n",
       "        vertical-align: middle;\n",
       "    }\n",
       "\n",
       "    .dataframe tbody tr th {\n",
       "        vertical-align: top;\n",
       "    }\n",
       "\n",
       "    .dataframe thead th {\n",
       "        text-align: right;\n",
       "    }\n",
       "</style>\n",
       "<table border=\"1\" class=\"dataframe\">\n",
       "  <thead>\n",
       "    <tr style=\"text-align: right;\">\n",
       "      <th></th>\n",
       "      <th>customer_id</th>\n",
       "      <th>order</th>\n",
       "      <th>total_sales</th>\n",
       "      <th>date</th>\n",
       "      <th>site</th>\n",
       "      <th>month_yr</th>\n",
       "    </tr>\n",
       "  </thead>\n",
       "  <tbody>\n",
       "    <tr>\n",
       "      <th>1</th>\n",
       "      <td>A5DDA420-302C-49C1-A85F-00010646EF9F</td>\n",
       "      <td>1000586</td>\n",
       "      <td>117.11</td>\n",
       "      <td>2019-10-13 13:20:00</td>\n",
       "      <td>NLB2C</td>\n",
       "      <td>Oct-2019</td>\n",
       "    </tr>\n",
       "    <tr>\n",
       "      <th>2</th>\n",
       "      <td>18DBDE67-B2B3-4DA4-84F4-0003289438DF</td>\n",
       "      <td>1465844</td>\n",
       "      <td>45.40</td>\n",
       "      <td>2021-08-29 12:36:00</td>\n",
       "      <td>NLB2C</td>\n",
       "      <td>Aug-2021</td>\n",
       "    </tr>\n",
       "    <tr>\n",
       "      <th>3</th>\n",
       "      <td>D10B31A4-D79A-42BB-BBB5-0004434B7E1E</td>\n",
       "      <td>1326466</td>\n",
       "      <td>63.49</td>\n",
       "      <td>2021-02-08 11:49:00</td>\n",
       "      <td>UKB2C</td>\n",
       "      <td>Feb-2021</td>\n",
       "    </tr>\n",
       "    <tr>\n",
       "      <th>4</th>\n",
       "      <td>D10B31A4-D79A-42BB-BBB5-0004434B7E1E</td>\n",
       "      <td>1422717</td>\n",
       "      <td>28.00</td>\n",
       "      <td>2021-06-23 22:27:00</td>\n",
       "      <td>UKB2C</td>\n",
       "      <td>Jun-2021</td>\n",
       "    </tr>\n",
       "    <tr>\n",
       "      <th>5</th>\n",
       "      <td>094F69A9-34AA-4196-952D-000467E02E8B</td>\n",
       "      <td>746149</td>\n",
       "      <td>67.67</td>\n",
       "      <td>2018-01-03 20:22:00</td>\n",
       "      <td>UKB2C</td>\n",
       "      <td>Jan-2018</td>\n",
       "    </tr>\n",
       "  </tbody>\n",
       "</table>\n",
       "</div>"
      ],
      "text/plain": [
       "                            customer_id    order  total_sales  \\\n",
       "1  A5DDA420-302C-49C1-A85F-00010646EF9F  1000586       117.11   \n",
       "2  18DBDE67-B2B3-4DA4-84F4-0003289438DF  1465844        45.40   \n",
       "3  D10B31A4-D79A-42BB-BBB5-0004434B7E1E  1326466        63.49   \n",
       "4  D10B31A4-D79A-42BB-BBB5-0004434B7E1E  1422717        28.00   \n",
       "5  094F69A9-34AA-4196-952D-000467E02E8B   746149        67.67   \n",
       "\n",
       "                 date   site  month_yr  \n",
       "1 2019-10-13 13:20:00  NLB2C  Oct-2019  \n",
       "2 2021-08-29 12:36:00  NLB2C  Aug-2021  \n",
       "3 2021-02-08 11:49:00  UKB2C  Feb-2021  \n",
       "4 2021-06-23 22:27:00  UKB2C  Jun-2021  \n",
       "5 2018-01-03 20:22:00  UKB2C  Jan-2018  "
      ]
     },
     "execution_count": 93,
     "metadata": {},
     "output_type": "execute_result"
    }
   ],
   "source": [
    "bgs_raw_df['month_yr'] =bgs_raw_df['date'].apply(lambda x: x.strftime('%b-%Y'))\n",
    "bgs_raw_df.head()"
   ]
  },
  {
   "cell_type": "markdown",
   "metadata": {},
   "source": [
    "### BGS FR&DE&NL Revenue\n"
   ]
  },
  {
   "cell_type": "code",
   "execution_count": 184,
   "metadata": {},
   "outputs": [],
   "source": [
    "df_bgs_euro = bgs_raw_df[bgs_raw_df['site']!='UKB2C']"
   ]
  },
  {
   "cell_type": "code",
   "execution_count": 188,
   "metadata": {},
   "outputs": [
    {
     "data": {
      "text/plain": [
       "array(['NLB2C', 'DEB2C', 'FRB2C'], dtype=object)"
      ]
     },
     "execution_count": 188,
     "metadata": {},
     "output_type": "execute_result"
    }
   ],
   "source": [
    "df_bgs_euro.site.unique()"
   ]
  },
  {
   "cell_type": "code",
   "execution_count": 198,
   "metadata": {},
   "outputs": [
    {
     "data": {
      "text/html": [
       "<div>\n",
       "<style scoped>\n",
       "    .dataframe tbody tr th:only-of-type {\n",
       "        vertical-align: middle;\n",
       "    }\n",
       "\n",
       "    .dataframe tbody tr th {\n",
       "        vertical-align: top;\n",
       "    }\n",
       "\n",
       "    .dataframe thead th {\n",
       "        text-align: right;\n",
       "    }\n",
       "</style>\n",
       "<table border=\"1\" class=\"dataframe\">\n",
       "  <thead>\n",
       "    <tr style=\"text-align: right;\">\n",
       "      <th></th>\n",
       "      <th>customer_id</th>\n",
       "      <th>order</th>\n",
       "      <th>total_sales</th>\n",
       "      <th>date</th>\n",
       "      <th>site</th>\n",
       "      <th>month_yr</th>\n",
       "    </tr>\n",
       "  </thead>\n",
       "  <tbody>\n",
       "    <tr>\n",
       "      <th>1</th>\n",
       "      <td>A5DDA420-302C-49C1-A85F-00010646EF9F</td>\n",
       "      <td>1000586</td>\n",
       "      <td>117.11</td>\n",
       "      <td>2019-10-13 13:20:00</td>\n",
       "      <td>NLB2C</td>\n",
       "      <td>Oct-2019</td>\n",
       "    </tr>\n",
       "    <tr>\n",
       "      <th>2</th>\n",
       "      <td>18DBDE67-B2B3-4DA4-84F4-0003289438DF</td>\n",
       "      <td>1465844</td>\n",
       "      <td>45.40</td>\n",
       "      <td>2021-08-29 12:36:00</td>\n",
       "      <td>NLB2C</td>\n",
       "      <td>Aug-2021</td>\n",
       "    </tr>\n",
       "    <tr>\n",
       "      <th>6</th>\n",
       "      <td>85D90824-AF8A-42A6-97C8-0005ACF17DBA</td>\n",
       "      <td>845431</td>\n",
       "      <td>56.90</td>\n",
       "      <td>2018-10-15 21:46:00</td>\n",
       "      <td>NLB2C</td>\n",
       "      <td>Oct-2018</td>\n",
       "    </tr>\n",
       "    <tr>\n",
       "      <th>22</th>\n",
       "      <td>7ED91C06-2841-4C2C-A5B6-000854120774</td>\n",
       "      <td>1002639</td>\n",
       "      <td>17.90</td>\n",
       "      <td>2019-10-18 16:25:00</td>\n",
       "      <td>NLB2C</td>\n",
       "      <td>Oct-2019</td>\n",
       "    </tr>\n",
       "    <tr>\n",
       "      <th>23</th>\n",
       "      <td>8F8913D5-51C7-456A-BD6B-00092D174B67</td>\n",
       "      <td>1122255</td>\n",
       "      <td>42.40</td>\n",
       "      <td>2020-05-08 18:06:00</td>\n",
       "      <td>NLB2C</td>\n",
       "      <td>May-2020</td>\n",
       "    </tr>\n",
       "  </tbody>\n",
       "</table>\n",
       "</div>"
      ],
      "text/plain": [
       "                             customer_id    order  total_sales  \\\n",
       "1   A5DDA420-302C-49C1-A85F-00010646EF9F  1000586       117.11   \n",
       "2   18DBDE67-B2B3-4DA4-84F4-0003289438DF  1465844        45.40   \n",
       "6   85D90824-AF8A-42A6-97C8-0005ACF17DBA   845431        56.90   \n",
       "22  7ED91C06-2841-4C2C-A5B6-000854120774  1002639        17.90   \n",
       "23  8F8913D5-51C7-456A-BD6B-00092D174B67  1122255        42.40   \n",
       "\n",
       "                  date   site  month_yr  \n",
       "1  2019-10-13 13:20:00  NLB2C  Oct-2019  \n",
       "2  2021-08-29 12:36:00  NLB2C  Aug-2021  \n",
       "6  2018-10-15 21:46:00  NLB2C  Oct-2018  \n",
       "22 2019-10-18 16:25:00  NLB2C  Oct-2019  \n",
       "23 2020-05-08 18:06:00  NLB2C  May-2020  "
      ]
     },
     "execution_count": 198,
     "metadata": {},
     "output_type": "execute_result"
    }
   ],
   "source": [
    "df_bgs_euro.head()"
   ]
  },
  {
   "cell_type": "code",
   "execution_count": 193,
   "metadata": {},
   "outputs": [
    {
     "data": {
      "text/plain": [
       "customer_id            object\n",
       "order                  object\n",
       "total_sales           float64\n",
       "date           datetime64[ns]\n",
       "site                   object\n",
       "month_yr               object\n",
       "dtype: object"
      ]
     },
     "execution_count": 193,
     "metadata": {},
     "output_type": "execute_result"
    }
   ],
   "source": [
    "df_bgs_euro.dtypes"
   ]
  },
  {
   "cell_type": "code",
   "execution_count": 199,
   "metadata": {},
   "outputs": [],
   "source": [
    "df_bgs_euro_adjust = df_bgs_euro.copy()"
   ]
  },
  {
   "cell_type": "code",
   "execution_count": 200,
   "metadata": {},
   "outputs": [
    {
     "data": {
      "text/html": [
       "<div>\n",
       "<style scoped>\n",
       "    .dataframe tbody tr th:only-of-type {\n",
       "        vertical-align: middle;\n",
       "    }\n",
       "\n",
       "    .dataframe tbody tr th {\n",
       "        vertical-align: top;\n",
       "    }\n",
       "\n",
       "    .dataframe thead th {\n",
       "        text-align: right;\n",
       "    }\n",
       "</style>\n",
       "<table border=\"1\" class=\"dataframe\">\n",
       "  <thead>\n",
       "    <tr style=\"text-align: right;\">\n",
       "      <th></th>\n",
       "      <th>customer_id</th>\n",
       "      <th>order</th>\n",
       "      <th>total_sales</th>\n",
       "      <th>date</th>\n",
       "      <th>site</th>\n",
       "      <th>month_yr</th>\n",
       "    </tr>\n",
       "  </thead>\n",
       "  <tbody>\n",
       "    <tr>\n",
       "      <th>1</th>\n",
       "      <td>A5DDA420-302C-49C1-A85F-00010646EF9F</td>\n",
       "      <td>1000586</td>\n",
       "      <td>100.093917</td>\n",
       "      <td>2019-10-13 13:20:00</td>\n",
       "      <td>NLB2C</td>\n",
       "      <td>Oct-2019</td>\n",
       "    </tr>\n",
       "    <tr>\n",
       "      <th>2</th>\n",
       "      <td>18DBDE67-B2B3-4DA4-84F4-0003289438DF</td>\n",
       "      <td>1465844</td>\n",
       "      <td>38.803380</td>\n",
       "      <td>2021-08-29 12:36:00</td>\n",
       "      <td>NLB2C</td>\n",
       "      <td>Aug-2021</td>\n",
       "    </tr>\n",
       "    <tr>\n",
       "      <th>6</th>\n",
       "      <td>85D90824-AF8A-42A6-97C8-0005ACF17DBA</td>\n",
       "      <td>845431</td>\n",
       "      <td>48.632430</td>\n",
       "      <td>2018-10-15 21:46:00</td>\n",
       "      <td>NLB2C</td>\n",
       "      <td>Oct-2018</td>\n",
       "    </tr>\n",
       "    <tr>\n",
       "      <th>22</th>\n",
       "      <td>7ED91C06-2841-4C2C-A5B6-000854120774</td>\n",
       "      <td>1002639</td>\n",
       "      <td>15.299130</td>\n",
       "      <td>2019-10-18 16:25:00</td>\n",
       "      <td>NLB2C</td>\n",
       "      <td>Oct-2019</td>\n",
       "    </tr>\n",
       "    <tr>\n",
       "      <th>23</th>\n",
       "      <td>8F8913D5-51C7-456A-BD6B-00092D174B67</td>\n",
       "      <td>1122255</td>\n",
       "      <td>36.239280</td>\n",
       "      <td>2020-05-08 18:06:00</td>\n",
       "      <td>NLB2C</td>\n",
       "      <td>May-2020</td>\n",
       "    </tr>\n",
       "  </tbody>\n",
       "</table>\n",
       "</div>"
      ],
      "text/plain": [
       "                             customer_id    order  total_sales  \\\n",
       "1   A5DDA420-302C-49C1-A85F-00010646EF9F  1000586   100.093917   \n",
       "2   18DBDE67-B2B3-4DA4-84F4-0003289438DF  1465844    38.803380   \n",
       "6   85D90824-AF8A-42A6-97C8-0005ACF17DBA   845431    48.632430   \n",
       "22  7ED91C06-2841-4C2C-A5B6-000854120774  1002639    15.299130   \n",
       "23  8F8913D5-51C7-456A-BD6B-00092D174B67  1122255    36.239280   \n",
       "\n",
       "                  date   site  month_yr  \n",
       "1  2019-10-13 13:20:00  NLB2C  Oct-2019  \n",
       "2  2021-08-29 12:36:00  NLB2C  Aug-2021  \n",
       "6  2018-10-15 21:46:00  NLB2C  Oct-2018  \n",
       "22 2019-10-18 16:25:00  NLB2C  Oct-2019  \n",
       "23 2020-05-08 18:06:00  NLB2C  May-2020  "
      ]
     },
     "execution_count": 200,
     "metadata": {},
     "output_type": "execute_result"
    }
   ],
   "source": [
    "### Implement a scalar latest exchange rate EUR/GBP = 1/1.17 ~ approximately 0.857\n",
    "\n",
    "df_bgs_euro_adjust ['total_sales']= 0.8547 * df_bgs_euro_adjust ['total_sales']\n",
    "df_bgs_euro_adjust.head()"
   ]
  },
  {
   "cell_type": "code",
   "execution_count": 201,
   "metadata": {},
   "outputs": [
    {
     "data": {
      "text/html": [
       "<div>\n",
       "<style scoped>\n",
       "    .dataframe tbody tr th:only-of-type {\n",
       "        vertical-align: middle;\n",
       "    }\n",
       "\n",
       "    .dataframe tbody tr th {\n",
       "        vertical-align: top;\n",
       "    }\n",
       "\n",
       "    .dataframe thead th {\n",
       "        text-align: right;\n",
       "    }\n",
       "</style>\n",
       "<table border=\"1\" class=\"dataframe\">\n",
       "  <thead>\n",
       "    <tr style=\"text-align: right;\">\n",
       "      <th></th>\n",
       "      <th>total_sales</th>\n",
       "    </tr>\n",
       "    <tr>\n",
       "      <th>month_yr</th>\n",
       "      <th></th>\n",
       "    </tr>\n",
       "  </thead>\n",
       "  <tbody>\n",
       "    <tr>\n",
       "      <th>Apr-2017</th>\n",
       "      <td>144446.92</td>\n",
       "    </tr>\n",
       "    <tr>\n",
       "      <th>Apr-2018</th>\n",
       "      <td>168124.88</td>\n",
       "    </tr>\n",
       "    <tr>\n",
       "      <th>Apr-2019</th>\n",
       "      <td>243964.71</td>\n",
       "    </tr>\n",
       "    <tr>\n",
       "      <th>Apr-2020</th>\n",
       "      <td>305040.94</td>\n",
       "    </tr>\n",
       "    <tr>\n",
       "      <th>Apr-2021</th>\n",
       "      <td>373932.80</td>\n",
       "    </tr>\n",
       "  </tbody>\n",
       "</table>\n",
       "</div>"
      ],
      "text/plain": [
       "          total_sales\n",
       "month_yr             \n",
       "Apr-2017    144446.92\n",
       "Apr-2018    168124.88\n",
       "Apr-2019    243964.71\n",
       "Apr-2020    305040.94\n",
       "Apr-2021    373932.80"
      ]
     },
     "execution_count": 201,
     "metadata": {},
     "output_type": "execute_result"
    }
   ],
   "source": [
    "### Total Revenue for the European Market by month\n",
    "\n",
    "df_eu_total_revenue = df_bgs_euro.groupby('month_yr')[['total_sales']].sum()\n",
    "df_eu_total_revenue.head()"
   ]
  },
  {
   "cell_type": "markdown",
   "metadata": {},
   "source": [
    "#### Total Revenue UK"
   ]
  },
  {
   "cell_type": "code",
   "execution_count": 175,
   "metadata": {},
   "outputs": [
    {
     "data": {
      "text/html": [
       "<div>\n",
       "<style scoped>\n",
       "    .dataframe tbody tr th:only-of-type {\n",
       "        vertical-align: middle;\n",
       "    }\n",
       "\n",
       "    .dataframe tbody tr th {\n",
       "        vertical-align: top;\n",
       "    }\n",
       "\n",
       "    .dataframe thead th {\n",
       "        text-align: right;\n",
       "    }\n",
       "</style>\n",
       "<table border=\"1\" class=\"dataframe\">\n",
       "  <thead>\n",
       "    <tr style=\"text-align: right;\">\n",
       "      <th></th>\n",
       "      <th>customer_id</th>\n",
       "      <th>order</th>\n",
       "      <th>total_sales</th>\n",
       "      <th>date</th>\n",
       "      <th>site</th>\n",
       "      <th>month_yr</th>\n",
       "    </tr>\n",
       "  </thead>\n",
       "  <tbody>\n",
       "    <tr>\n",
       "      <th>1</th>\n",
       "      <td>A5DDA420-302C-49C1-A85F-00010646EF9F</td>\n",
       "      <td>1000586</td>\n",
       "      <td>117.11</td>\n",
       "      <td>2019-10-13 13:20:00</td>\n",
       "      <td>NLB2C</td>\n",
       "      <td>Oct-2019</td>\n",
       "    </tr>\n",
       "    <tr>\n",
       "      <th>2</th>\n",
       "      <td>18DBDE67-B2B3-4DA4-84F4-0003289438DF</td>\n",
       "      <td>1465844</td>\n",
       "      <td>45.40</td>\n",
       "      <td>2021-08-29 12:36:00</td>\n",
       "      <td>NLB2C</td>\n",
       "      <td>Aug-2021</td>\n",
       "    </tr>\n",
       "    <tr>\n",
       "      <th>3</th>\n",
       "      <td>D10B31A4-D79A-42BB-BBB5-0004434B7E1E</td>\n",
       "      <td>1326466</td>\n",
       "      <td>63.49</td>\n",
       "      <td>2021-02-08 11:49:00</td>\n",
       "      <td>UKB2C</td>\n",
       "      <td>Feb-2021</td>\n",
       "    </tr>\n",
       "    <tr>\n",
       "      <th>4</th>\n",
       "      <td>D10B31A4-D79A-42BB-BBB5-0004434B7E1E</td>\n",
       "      <td>1422717</td>\n",
       "      <td>28.00</td>\n",
       "      <td>2021-06-23 22:27:00</td>\n",
       "      <td>UKB2C</td>\n",
       "      <td>Jun-2021</td>\n",
       "    </tr>\n",
       "    <tr>\n",
       "      <th>5</th>\n",
       "      <td>094F69A9-34AA-4196-952D-000467E02E8B</td>\n",
       "      <td>746149</td>\n",
       "      <td>67.67</td>\n",
       "      <td>2018-01-03 20:22:00</td>\n",
       "      <td>UKB2C</td>\n",
       "      <td>Jan-2018</td>\n",
       "    </tr>\n",
       "  </tbody>\n",
       "</table>\n",
       "</div>"
      ],
      "text/plain": [
       "                            customer_id    order  total_sales  \\\n",
       "1  A5DDA420-302C-49C1-A85F-00010646EF9F  1000586       117.11   \n",
       "2  18DBDE67-B2B3-4DA4-84F4-0003289438DF  1465844        45.40   \n",
       "3  D10B31A4-D79A-42BB-BBB5-0004434B7E1E  1326466        63.49   \n",
       "4  D10B31A4-D79A-42BB-BBB5-0004434B7E1E  1422717        28.00   \n",
       "5  094F69A9-34AA-4196-952D-000467E02E8B   746149        67.67   \n",
       "\n",
       "                 date   site  month_yr  \n",
       "1 2019-10-13 13:20:00  NLB2C  Oct-2019  \n",
       "2 2021-08-29 12:36:00  NLB2C  Aug-2021  \n",
       "3 2021-02-08 11:49:00  UKB2C  Feb-2021  \n",
       "4 2021-06-23 22:27:00  UKB2C  Jun-2021  \n",
       "5 2018-01-03 20:22:00  UKB2C  Jan-2018  "
      ]
     },
     "execution_count": 175,
     "metadata": {},
     "output_type": "execute_result"
    }
   ],
   "source": [
    "bgs_raw_df.head()"
   ]
  },
  {
   "cell_type": "code",
   "execution_count": 174,
   "metadata": {},
   "outputs": [
    {
     "data": {
      "text/plain": [
       "array(['NLB2C', 'UKB2C', 'DEB2C', 'FRB2C'], dtype=object)"
      ]
     },
     "execution_count": 174,
     "metadata": {},
     "output_type": "execute_result"
    }
   ],
   "source": [
    "bgs_raw_df.site.unique()"
   ]
  },
  {
   "cell_type": "code",
   "execution_count": 185,
   "metadata": {},
   "outputs": [],
   "source": [
    "df_bgs_uk = bgs_raw_df[bgs_raw_df['site']=='UKB2C']"
   ]
  },
  {
   "cell_type": "code",
   "execution_count": 186,
   "metadata": {},
   "outputs": [
    {
     "data": {
      "text/html": [
       "<div>\n",
       "<style scoped>\n",
       "    .dataframe tbody tr th:only-of-type {\n",
       "        vertical-align: middle;\n",
       "    }\n",
       "\n",
       "    .dataframe tbody tr th {\n",
       "        vertical-align: top;\n",
       "    }\n",
       "\n",
       "    .dataframe thead th {\n",
       "        text-align: right;\n",
       "    }\n",
       "</style>\n",
       "<table border=\"1\" class=\"dataframe\">\n",
       "  <thead>\n",
       "    <tr style=\"text-align: right;\">\n",
       "      <th></th>\n",
       "      <th>customer_id</th>\n",
       "      <th>order</th>\n",
       "      <th>total_sales</th>\n",
       "      <th>date</th>\n",
       "      <th>site</th>\n",
       "      <th>month_yr</th>\n",
       "    </tr>\n",
       "  </thead>\n",
       "  <tbody>\n",
       "    <tr>\n",
       "      <th>3</th>\n",
       "      <td>D10B31A4-D79A-42BB-BBB5-0004434B7E1E</td>\n",
       "      <td>1326466</td>\n",
       "      <td>63.49</td>\n",
       "      <td>2021-02-08 11:49:00</td>\n",
       "      <td>UKB2C</td>\n",
       "      <td>Feb-2021</td>\n",
       "    </tr>\n",
       "    <tr>\n",
       "      <th>4</th>\n",
       "      <td>D10B31A4-D79A-42BB-BBB5-0004434B7E1E</td>\n",
       "      <td>1422717</td>\n",
       "      <td>28.00</td>\n",
       "      <td>2021-06-23 22:27:00</td>\n",
       "      <td>UKB2C</td>\n",
       "      <td>Jun-2021</td>\n",
       "    </tr>\n",
       "    <tr>\n",
       "      <th>5</th>\n",
       "      <td>094F69A9-34AA-4196-952D-000467E02E8B</td>\n",
       "      <td>746149</td>\n",
       "      <td>67.67</td>\n",
       "      <td>2018-01-03 20:22:00</td>\n",
       "      <td>UKB2C</td>\n",
       "      <td>Jan-2018</td>\n",
       "    </tr>\n",
       "    <tr>\n",
       "      <th>7</th>\n",
       "      <td>07BCA8D0-2465-4002-9C1E-0005B14E9FD7</td>\n",
       "      <td>711848</td>\n",
       "      <td>60.39</td>\n",
       "      <td>2017-09-19 15:55:00</td>\n",
       "      <td>UKB2C</td>\n",
       "      <td>Sep-2017</td>\n",
       "    </tr>\n",
       "    <tr>\n",
       "      <th>8</th>\n",
       "      <td>07BCA8D0-2465-4002-9C1E-0005B14E9FD7</td>\n",
       "      <td>800910</td>\n",
       "      <td>61.39</td>\n",
       "      <td>2018-06-17 14:09:00</td>\n",
       "      <td>UKB2C</td>\n",
       "      <td>Jun-2018</td>\n",
       "    </tr>\n",
       "  </tbody>\n",
       "</table>\n",
       "</div>"
      ],
      "text/plain": [
       "                            customer_id    order  total_sales  \\\n",
       "3  D10B31A4-D79A-42BB-BBB5-0004434B7E1E  1326466        63.49   \n",
       "4  D10B31A4-D79A-42BB-BBB5-0004434B7E1E  1422717        28.00   \n",
       "5  094F69A9-34AA-4196-952D-000467E02E8B   746149        67.67   \n",
       "7  07BCA8D0-2465-4002-9C1E-0005B14E9FD7   711848        60.39   \n",
       "8  07BCA8D0-2465-4002-9C1E-0005B14E9FD7   800910        61.39   \n",
       "\n",
       "                 date   site  month_yr  \n",
       "3 2021-02-08 11:49:00  UKB2C  Feb-2021  \n",
       "4 2021-06-23 22:27:00  UKB2C  Jun-2021  \n",
       "5 2018-01-03 20:22:00  UKB2C  Jan-2018  \n",
       "7 2017-09-19 15:55:00  UKB2C  Sep-2017  \n",
       "8 2018-06-17 14:09:00  UKB2C  Jun-2018  "
      ]
     },
     "execution_count": 186,
     "metadata": {},
     "output_type": "execute_result"
    }
   ],
   "source": [
    "df_bgs_uk.head()"
   ]
  },
  {
   "cell_type": "code",
   "execution_count": 181,
   "metadata": {},
   "outputs": [
    {
     "data": {
      "text/html": [
       "<div>\n",
       "<style scoped>\n",
       "    .dataframe tbody tr th:only-of-type {\n",
       "        vertical-align: middle;\n",
       "    }\n",
       "\n",
       "    .dataframe tbody tr th {\n",
       "        vertical-align: top;\n",
       "    }\n",
       "\n",
       "    .dataframe thead th {\n",
       "        text-align: right;\n",
       "    }\n",
       "</style>\n",
       "<table border=\"1\" class=\"dataframe\">\n",
       "  <thead>\n",
       "    <tr style=\"text-align: right;\">\n",
       "      <th></th>\n",
       "      <th>total_sales</th>\n",
       "    </tr>\n",
       "    <tr>\n",
       "      <th>month_yr</th>\n",
       "      <th></th>\n",
       "    </tr>\n",
       "  </thead>\n",
       "  <tbody>\n",
       "    <tr>\n",
       "      <th>Apr-2017</th>\n",
       "      <td>143365.240</td>\n",
       "    </tr>\n",
       "    <tr>\n",
       "      <th>Apr-2018</th>\n",
       "      <td>163812.660</td>\n",
       "    </tr>\n",
       "    <tr>\n",
       "      <th>Apr-2019</th>\n",
       "      <td>203066.294</td>\n",
       "    </tr>\n",
       "    <tr>\n",
       "      <th>Apr-2020</th>\n",
       "      <td>337276.460</td>\n",
       "    </tr>\n",
       "    <tr>\n",
       "      <th>Apr-2021</th>\n",
       "      <td>238784.430</td>\n",
       "    </tr>\n",
       "  </tbody>\n",
       "</table>\n",
       "</div>"
      ],
      "text/plain": [
       "          total_sales\n",
       "month_yr             \n",
       "Apr-2017   143365.240\n",
       "Apr-2018   163812.660\n",
       "Apr-2019   203066.294\n",
       "Apr-2020   337276.460\n",
       "Apr-2021   238784.430"
      ]
     },
     "execution_count": 181,
     "metadata": {},
     "output_type": "execute_result"
    }
   ],
   "source": [
    "df_uk_total_revenue = df_bgs_uk.groupby('month_yr')[['total_sales']].sum()\n",
    "df_uk_total_revenue.head()"
   ]
  },
  {
   "cell_type": "markdown",
   "metadata": {},
   "source": [
    "#### Currency Adjusted Revenue "
   ]
  },
  {
   "cell_type": "code",
   "execution_count": 248,
   "metadata": {},
   "outputs": [],
   "source": [
    "df_currency_adjusted = pd.concat([df_bgs_euro_adjust, df_bgs_uk], axis=0)"
   ]
  },
  {
   "cell_type": "code",
   "execution_count": 249,
   "metadata": {},
   "outputs": [
    {
     "data": {
      "text/html": [
       "<div>\n",
       "<style scoped>\n",
       "    .dataframe tbody tr th:only-of-type {\n",
       "        vertical-align: middle;\n",
       "    }\n",
       "\n",
       "    .dataframe tbody tr th {\n",
       "        vertical-align: top;\n",
       "    }\n",
       "\n",
       "    .dataframe thead th {\n",
       "        text-align: right;\n",
       "    }\n",
       "</style>\n",
       "<table border=\"1\" class=\"dataframe\">\n",
       "  <thead>\n",
       "    <tr style=\"text-align: right;\">\n",
       "      <th></th>\n",
       "      <th>customer_id</th>\n",
       "      <th>order</th>\n",
       "      <th>total_sales</th>\n",
       "      <th>date</th>\n",
       "      <th>site</th>\n",
       "      <th>month_yr</th>\n",
       "    </tr>\n",
       "  </thead>\n",
       "  <tbody>\n",
       "    <tr>\n",
       "      <th>1</th>\n",
       "      <td>A5DDA420-302C-49C1-A85F-00010646EF9F</td>\n",
       "      <td>1000586</td>\n",
       "      <td>100.093917</td>\n",
       "      <td>2019-10-13 13:20:00</td>\n",
       "      <td>NLB2C</td>\n",
       "      <td>Oct-2019</td>\n",
       "    </tr>\n",
       "    <tr>\n",
       "      <th>2</th>\n",
       "      <td>18DBDE67-B2B3-4DA4-84F4-0003289438DF</td>\n",
       "      <td>1465844</td>\n",
       "      <td>38.803380</td>\n",
       "      <td>2021-08-29 12:36:00</td>\n",
       "      <td>NLB2C</td>\n",
       "      <td>Aug-2021</td>\n",
       "    </tr>\n",
       "    <tr>\n",
       "      <th>6</th>\n",
       "      <td>85D90824-AF8A-42A6-97C8-0005ACF17DBA</td>\n",
       "      <td>845431</td>\n",
       "      <td>48.632430</td>\n",
       "      <td>2018-10-15 21:46:00</td>\n",
       "      <td>NLB2C</td>\n",
       "      <td>Oct-2018</td>\n",
       "    </tr>\n",
       "    <tr>\n",
       "      <th>22</th>\n",
       "      <td>7ED91C06-2841-4C2C-A5B6-000854120774</td>\n",
       "      <td>1002639</td>\n",
       "      <td>15.299130</td>\n",
       "      <td>2019-10-18 16:25:00</td>\n",
       "      <td>NLB2C</td>\n",
       "      <td>Oct-2019</td>\n",
       "    </tr>\n",
       "    <tr>\n",
       "      <th>23</th>\n",
       "      <td>8F8913D5-51C7-456A-BD6B-00092D174B67</td>\n",
       "      <td>1122255</td>\n",
       "      <td>36.239280</td>\n",
       "      <td>2020-05-08 18:06:00</td>\n",
       "      <td>NLB2C</td>\n",
       "      <td>May-2020</td>\n",
       "    </tr>\n",
       "  </tbody>\n",
       "</table>\n",
       "</div>"
      ],
      "text/plain": [
       "                             customer_id    order  total_sales  \\\n",
       "1   A5DDA420-302C-49C1-A85F-00010646EF9F  1000586   100.093917   \n",
       "2   18DBDE67-B2B3-4DA4-84F4-0003289438DF  1465844    38.803380   \n",
       "6   85D90824-AF8A-42A6-97C8-0005ACF17DBA   845431    48.632430   \n",
       "22  7ED91C06-2841-4C2C-A5B6-000854120774  1002639    15.299130   \n",
       "23  8F8913D5-51C7-456A-BD6B-00092D174B67  1122255    36.239280   \n",
       "\n",
       "                  date   site  month_yr  \n",
       "1  2019-10-13 13:20:00  NLB2C  Oct-2019  \n",
       "2  2021-08-29 12:36:00  NLB2C  Aug-2021  \n",
       "6  2018-10-15 21:46:00  NLB2C  Oct-2018  \n",
       "22 2019-10-18 16:25:00  NLB2C  Oct-2019  \n",
       "23 2020-05-08 18:06:00  NLB2C  May-2020  "
      ]
     },
     "execution_count": 249,
     "metadata": {},
     "output_type": "execute_result"
    }
   ],
   "source": [
    "df_currency_adjusted.head()"
   ]
  },
  {
   "cell_type": "code",
   "execution_count": 206,
   "metadata": {},
   "outputs": [
    {
     "data": {
      "text/plain": [
       "array(['NLB2C', 'DEB2C', 'FRB2C', 'UKB2C'], dtype=object)"
      ]
     },
     "execution_count": 206,
     "metadata": {},
     "output_type": "execute_result"
    }
   ],
   "source": [
    "df_currency_adjusted.site.unique()"
   ]
  },
  {
   "cell_type": "markdown",
   "metadata": {},
   "source": [
    "#### Identifying all customers with a first purchase - Total Revenue and Number of First Customers"
   ]
  },
  {
   "cell_type": "code",
   "execution_count": 151,
   "metadata": {},
   "outputs": [
    {
     "data": {
      "text/html": [
       "<div>\n",
       "<style scoped>\n",
       "    .dataframe tbody tr th:only-of-type {\n",
       "        vertical-align: middle;\n",
       "    }\n",
       "\n",
       "    .dataframe tbody tr th {\n",
       "        vertical-align: top;\n",
       "    }\n",
       "\n",
       "    .dataframe thead th {\n",
       "        text-align: right;\n",
       "    }\n",
       "</style>\n",
       "<table border=\"1\" class=\"dataframe\">\n",
       "  <thead>\n",
       "    <tr style=\"text-align: right;\">\n",
       "      <th></th>\n",
       "      <th>order</th>\n",
       "      <th>total_sales</th>\n",
       "      <th>date</th>\n",
       "      <th>site</th>\n",
       "      <th>month_yr</th>\n",
       "    </tr>\n",
       "    <tr>\n",
       "      <th>customer_id</th>\n",
       "      <th></th>\n",
       "      <th></th>\n",
       "      <th></th>\n",
       "      <th></th>\n",
       "      <th></th>\n",
       "    </tr>\n",
       "  </thead>\n",
       "  <tbody>\n",
       "    <tr>\n",
       "      <th>000020BA-0E21-4246-9968-6ED13113768A</th>\n",
       "      <td>1165351</td>\n",
       "      <td>14.00</td>\n",
       "      <td>2020-06-30 20:16:00</td>\n",
       "      <td>UKB2C</td>\n",
       "      <td>Jun-2020</td>\n",
       "    </tr>\n",
       "    <tr>\n",
       "      <th>00004040-BFD2-492B-A752-BE9459B3FE22</th>\n",
       "      <td>1075381</td>\n",
       "      <td>42.85</td>\n",
       "      <td>2020-03-19 11:02:00</td>\n",
       "      <td>NLB2C</td>\n",
       "      <td>Mar-2020</td>\n",
       "    </tr>\n",
       "    <tr>\n",
       "      <th>000058D5-2DBE-4251-8448-9B1CFA15FF49</th>\n",
       "      <td>756499</td>\n",
       "      <td>61.82</td>\n",
       "      <td>2018-02-03 00:38:00</td>\n",
       "      <td>FRB2C</td>\n",
       "      <td>Feb-2018</td>\n",
       "    </tr>\n",
       "    <tr>\n",
       "      <th>00008280-429D-495F-BB87-893438746905</th>\n",
       "      <td>945161</td>\n",
       "      <td>21.62</td>\n",
       "      <td>2019-06-07 13:45:00</td>\n",
       "      <td>NLB2C</td>\n",
       "      <td>Jun-2019</td>\n",
       "    </tr>\n",
       "    <tr>\n",
       "      <th>0000C6A2-65BD-4E02-B96E-8E0E8CC25235</th>\n",
       "      <td>1455784</td>\n",
       "      <td>51.96</td>\n",
       "      <td>2021-08-11 14:28:00</td>\n",
       "      <td>NLB2C</td>\n",
       "      <td>Aug-2021</td>\n",
       "    </tr>\n",
       "  </tbody>\n",
       "</table>\n",
       "</div>"
      ],
      "text/plain": [
       "                                        order  total_sales  \\\n",
       "customer_id                                                  \n",
       "000020BA-0E21-4246-9968-6ED13113768A  1165351        14.00   \n",
       "00004040-BFD2-492B-A752-BE9459B3FE22  1075381        42.85   \n",
       "000058D5-2DBE-4251-8448-9B1CFA15FF49   756499        61.82   \n",
       "00008280-429D-495F-BB87-893438746905   945161        21.62   \n",
       "0000C6A2-65BD-4E02-B96E-8E0E8CC25235  1455784        51.96   \n",
       "\n",
       "                                                    date   site  month_yr  \n",
       "customer_id                                                                \n",
       "000020BA-0E21-4246-9968-6ED13113768A 2020-06-30 20:16:00  UKB2C  Jun-2020  \n",
       "00004040-BFD2-492B-A752-BE9459B3FE22 2020-03-19 11:02:00  NLB2C  Mar-2020  \n",
       "000058D5-2DBE-4251-8448-9B1CFA15FF49 2018-02-03 00:38:00  FRB2C  Feb-2018  \n",
       "00008280-429D-495F-BB87-893438746905 2019-06-07 13:45:00  NLB2C  Jun-2019  \n",
       "0000C6A2-65BD-4E02-B96E-8E0E8CC25235 2021-08-11 14:28:00  NLB2C  Aug-2021  "
      ]
     },
     "execution_count": 151,
     "metadata": {},
     "output_type": "execute_result"
    }
   ],
   "source": [
    "df_first1 = bgs_raw_df.sort_values(['date']).groupby('customer_id').first()\n",
    "df_first1.head()"
   ]
  },
  {
   "cell_type": "code",
   "execution_count": 66,
   "metadata": {},
   "outputs": [
    {
     "data": {
      "text/plain": [
       "223575"
      ]
     },
     "execution_count": 66,
     "metadata": {},
     "output_type": "execute_result"
    }
   ],
   "source": [
    "len(bgs_raw_df.customer_id.unique())"
   ]
  },
  {
   "cell_type": "code",
   "execution_count": 159,
   "metadata": {},
   "outputs": [
    {
     "data": {
      "text/html": [
       "<div>\n",
       "<style scoped>\n",
       "    .dataframe tbody tr th:only-of-type {\n",
       "        vertical-align: middle;\n",
       "    }\n",
       "\n",
       "    .dataframe tbody tr th {\n",
       "        vertical-align: top;\n",
       "    }\n",
       "\n",
       "    .dataframe thead th {\n",
       "        text-align: right;\n",
       "    }\n",
       "</style>\n",
       "<table border=\"1\" class=\"dataframe\">\n",
       "  <thead>\n",
       "    <tr style=\"text-align: right;\">\n",
       "      <th></th>\n",
       "      <th>order</th>\n",
       "      <th>total_sales</th>\n",
       "      <th>date</th>\n",
       "      <th>site</th>\n",
       "      <th>month_yr</th>\n",
       "    </tr>\n",
       "    <tr>\n",
       "      <th>customer_id</th>\n",
       "      <th></th>\n",
       "      <th></th>\n",
       "      <th></th>\n",
       "      <th></th>\n",
       "      <th></th>\n",
       "    </tr>\n",
       "  </thead>\n",
       "  <tbody>\n",
       "    <tr>\n",
       "      <th>000020BA-0E21-4246-9968-6ED13113768A</th>\n",
       "      <td>1165351</td>\n",
       "      <td>14.00</td>\n",
       "      <td>2020-06-30 20:16:00</td>\n",
       "      <td>UKB2C</td>\n",
       "      <td>Jun-2020</td>\n",
       "    </tr>\n",
       "    <tr>\n",
       "      <th>00004040-BFD2-492B-A752-BE9459B3FE22</th>\n",
       "      <td>1075381</td>\n",
       "      <td>42.85</td>\n",
       "      <td>2020-03-19 11:02:00</td>\n",
       "      <td>NLB2C</td>\n",
       "      <td>Mar-2020</td>\n",
       "    </tr>\n",
       "    <tr>\n",
       "      <th>000058D5-2DBE-4251-8448-9B1CFA15FF49</th>\n",
       "      <td>756499</td>\n",
       "      <td>61.82</td>\n",
       "      <td>2018-02-03 00:38:00</td>\n",
       "      <td>FRB2C</td>\n",
       "      <td>Feb-2018</td>\n",
       "    </tr>\n",
       "    <tr>\n",
       "      <th>00008280-429D-495F-BB87-893438746905</th>\n",
       "      <td>945161</td>\n",
       "      <td>21.62</td>\n",
       "      <td>2019-06-07 13:45:00</td>\n",
       "      <td>NLB2C</td>\n",
       "      <td>Jun-2019</td>\n",
       "    </tr>\n",
       "    <tr>\n",
       "      <th>0000C6A2-65BD-4E02-B96E-8E0E8CC25235</th>\n",
       "      <td>1455784</td>\n",
       "      <td>51.96</td>\n",
       "      <td>2021-08-11 14:28:00</td>\n",
       "      <td>NLB2C</td>\n",
       "      <td>Aug-2021</td>\n",
       "    </tr>\n",
       "  </tbody>\n",
       "</table>\n",
       "</div>"
      ],
      "text/plain": [
       "                                        order  total_sales  \\\n",
       "customer_id                                                  \n",
       "000020BA-0E21-4246-9968-6ED13113768A  1165351        14.00   \n",
       "00004040-BFD2-492B-A752-BE9459B3FE22  1075381        42.85   \n",
       "000058D5-2DBE-4251-8448-9B1CFA15FF49   756499        61.82   \n",
       "00008280-429D-495F-BB87-893438746905   945161        21.62   \n",
       "0000C6A2-65BD-4E02-B96E-8E0E8CC25235  1455784        51.96   \n",
       "\n",
       "                                                    date   site  month_yr  \n",
       "customer_id                                                                \n",
       "000020BA-0E21-4246-9968-6ED13113768A 2020-06-30 20:16:00  UKB2C  Jun-2020  \n",
       "00004040-BFD2-492B-A752-BE9459B3FE22 2020-03-19 11:02:00  NLB2C  Mar-2020  \n",
       "000058D5-2DBE-4251-8448-9B1CFA15FF49 2018-02-03 00:38:00  FRB2C  Feb-2018  \n",
       "00008280-429D-495F-BB87-893438746905 2019-06-07 13:45:00  NLB2C  Jun-2019  \n",
       "0000C6A2-65BD-4E02-B96E-8E0E8CC25235 2021-08-11 14:28:00  NLB2C  Aug-2021  "
      ]
     },
     "execution_count": 159,
     "metadata": {},
     "output_type": "execute_result"
    }
   ],
   "source": [
    "first_orders = bgs_raw_df.sort_values(['date']).groupby('customer_id').first()\n",
    "first_orders.head()"
   ]
  },
  {
   "cell_type": "code",
   "execution_count": 168,
   "metadata": {},
   "outputs": [],
   "source": [
    "first_orders =first_orders.reset_index()"
   ]
  },
  {
   "cell_type": "code",
   "execution_count": 171,
   "metadata": {},
   "outputs": [],
   "source": [
    "df_first_grouped1 = first_orders.groupby(\"month_yr\").agg({\"customer_id\": lambda num: num.count()})"
   ]
  },
  {
   "cell_type": "code",
   "execution_count": 263,
   "metadata": {},
   "outputs": [
    {
     "data": {
      "text/html": [
       "<div>\n",
       "<style scoped>\n",
       "    .dataframe tbody tr th:only-of-type {\n",
       "        vertical-align: middle;\n",
       "    }\n",
       "\n",
       "    .dataframe tbody tr th {\n",
       "        vertical-align: top;\n",
       "    }\n",
       "\n",
       "    .dataframe thead th {\n",
       "        text-align: right;\n",
       "    }\n",
       "</style>\n",
       "<table border=\"1\" class=\"dataframe\">\n",
       "  <thead>\n",
       "    <tr style=\"text-align: right;\">\n",
       "      <th></th>\n",
       "      <th>customer_id</th>\n",
       "    </tr>\n",
       "    <tr>\n",
       "      <th>month_yr</th>\n",
       "      <th></th>\n",
       "    </tr>\n",
       "  </thead>\n",
       "  <tbody>\n",
       "    <tr>\n",
       "      <th>Apr-2017</th>\n",
       "      <td>3277</td>\n",
       "    </tr>\n",
       "    <tr>\n",
       "      <th>Apr-2018</th>\n",
       "      <td>2328</td>\n",
       "    </tr>\n",
       "    <tr>\n",
       "      <th>Apr-2019</th>\n",
       "      <td>4382</td>\n",
       "    </tr>\n",
       "    <tr>\n",
       "      <th>Apr-2020</th>\n",
       "      <td>7724</td>\n",
       "    </tr>\n",
       "    <tr>\n",
       "      <th>Apr-2021</th>\n",
       "      <td>5278</td>\n",
       "    </tr>\n",
       "  </tbody>\n",
       "</table>\n",
       "</div>"
      ],
      "text/plain": [
       "          customer_id\n",
       "month_yr             \n",
       "Apr-2017         3277\n",
       "Apr-2018         2328\n",
       "Apr-2019         4382\n",
       "Apr-2020         7724\n",
       "Apr-2021         5278"
      ]
     },
     "execution_count": 263,
     "metadata": {},
     "output_type": "execute_result"
    }
   ],
   "source": [
    "df_first_grouped1.head()"
   ]
  },
  {
   "cell_type": "code",
   "execution_count": 161,
   "metadata": {},
   "outputs": [
    {
     "data": {
      "text/html": [
       "<div>\n",
       "<style scoped>\n",
       "    .dataframe tbody tr th:only-of-type {\n",
       "        vertical-align: middle;\n",
       "    }\n",
       "\n",
       "    .dataframe tbody tr th {\n",
       "        vertical-align: top;\n",
       "    }\n",
       "\n",
       "    .dataframe thead th {\n",
       "        text-align: right;\n",
       "    }\n",
       "</style>\n",
       "<table border=\"1\" class=\"dataframe\">\n",
       "  <thead>\n",
       "    <tr style=\"text-align: right;\">\n",
       "      <th></th>\n",
       "      <th>total_sales</th>\n",
       "    </tr>\n",
       "    <tr>\n",
       "      <th>month_yr</th>\n",
       "      <th></th>\n",
       "    </tr>\n",
       "  </thead>\n",
       "  <tbody>\n",
       "    <tr>\n",
       "      <th>Apr-2017</th>\n",
       "      <td>160708.25</td>\n",
       "    </tr>\n",
       "    <tr>\n",
       "      <th>Apr-2018</th>\n",
       "      <td>101386.02</td>\n",
       "    </tr>\n",
       "    <tr>\n",
       "      <th>Apr-2019</th>\n",
       "      <td>173532.29</td>\n",
       "    </tr>\n",
       "    <tr>\n",
       "      <th>Apr-2020</th>\n",
       "      <td>295470.03</td>\n",
       "    </tr>\n",
       "    <tr>\n",
       "      <th>Apr-2021</th>\n",
       "      <td>213051.74</td>\n",
       "    </tr>\n",
       "  </tbody>\n",
       "</table>\n",
       "</div>"
      ],
      "text/plain": [
       "          total_sales\n",
       "month_yr             \n",
       "Apr-2017    160708.25\n",
       "Apr-2018    101386.02\n",
       "Apr-2019    173532.29\n",
       "Apr-2020    295470.03\n",
       "Apr-2021    213051.74"
      ]
     },
     "execution_count": 161,
     "metadata": {},
     "output_type": "execute_result"
    }
   ],
   "source": [
    "df_first_order_revenue = first_orders.groupby('month_yr')[['total_sales']].sum()\n",
    "df_first_order_revenue.head()"
   ]
  },
  {
   "cell_type": "code",
   "execution_count": 162,
   "metadata": {},
   "outputs": [],
   "source": [
    "#Importing to csv\n",
    "\n",
    "\n",
    "df_first_order_revenue.to_csv('bgs_first_orders_rev.csv')\n",
    "df_first_grouped1.to_csv('bgs_all_first_orders.csv')"
   ]
  },
  {
   "cell_type": "markdown",
   "metadata": {},
   "source": [
    "#### Identifying Repeat Customers - Customers who made more than a single purchase"
   ]
  },
  {
   "cell_type": "code",
   "execution_count": 265,
   "metadata": {},
   "outputs": [
    {
     "ename": "KeyError",
     "evalue": "'month_yr'",
     "output_type": "error",
     "traceback": [
      "\u001b[1;31m---------------------------------------------------------------------------\u001b[0m",
      "\u001b[1;31mKeyError\u001b[0m                                  Traceback (most recent call last)",
      "\u001b[1;32m<ipython-input-265-d2c4671df4f9>\u001b[0m in \u001b[0;36m<module>\u001b[1;34m\u001b[0m\n\u001b[0;32m      1\u001b[0m \u001b[1;31m#These are customers with more than 1 customer IDs and so could be said to be duplicates as customer_id column pertain to number of orders and customer count\u001b[0m\u001b[1;33m\u001b[0m\u001b[1;33m\u001b[0m\u001b[1;33m\u001b[0m\u001b[0m\n\u001b[0;32m      2\u001b[0m \u001b[1;33m\u001b[0m\u001b[0m\n\u001b[1;32m----> 3\u001b[1;33m \u001b[0mdf_duplicate1\u001b[0m \u001b[1;33m=\u001b[0m \u001b[0mbgs_raw_df\u001b[0m\u001b[1;33m[\u001b[0m\u001b[0mbgs_raw_df\u001b[0m\u001b[1;33m.\u001b[0m\u001b[0mcustomer_id\u001b[0m\u001b[1;33m.\u001b[0m\u001b[0mduplicated\u001b[0m\u001b[1;33m(\u001b[0m\u001b[0mkeep\u001b[0m\u001b[1;33m=\u001b[0m\u001b[1;32mFalse\u001b[0m\u001b[1;33m)\u001b[0m\u001b[1;33m]\u001b[0m\u001b[1;33m.\u001b[0m\u001b[0mgroupby\u001b[0m\u001b[1;33m(\u001b[0m\u001b[1;33m[\u001b[0m\u001b[1;34m'customer_id'\u001b[0m\u001b[1;33m,\u001b[0m \u001b[1;34m'date'\u001b[0m\u001b[1;33m,\u001b[0m \u001b[1;34m'month_yr'\u001b[0m\u001b[1;33m]\u001b[0m\u001b[1;33m)\u001b[0m\u001b[1;33m.\u001b[0m\u001b[0msum\u001b[0m\u001b[1;33m(\u001b[0m\u001b[1;33m)\u001b[0m\u001b[1;33m.\u001b[0m\u001b[0mreset_index\u001b[0m\u001b[1;33m(\u001b[0m\u001b[1;33m)\u001b[0m\u001b[1;33m\u001b[0m\u001b[1;33m\u001b[0m\u001b[0m\n\u001b[0m\u001b[0;32m      4\u001b[0m \u001b[0mdf_duplicate1\u001b[0m\u001b[1;33m.\u001b[0m\u001b[0mhead\u001b[0m\u001b[1;33m(\u001b[0m\u001b[1;33m)\u001b[0m\u001b[1;33m\u001b[0m\u001b[1;33m\u001b[0m\u001b[0m\n",
      "\u001b[1;32m~\\anaconda3\\lib\\site-packages\\pandas\\core\\frame.py\u001b[0m in \u001b[0;36mgroupby\u001b[1;34m(self, by, axis, level, as_index, sort, group_keys, squeeze, observed, dropna)\u001b[0m\n\u001b[0;32m   6509\u001b[0m         \u001b[0maxis\u001b[0m \u001b[1;33m=\u001b[0m \u001b[0mself\u001b[0m\u001b[1;33m.\u001b[0m\u001b[0m_get_axis_number\u001b[0m\u001b[1;33m(\u001b[0m\u001b[0maxis\u001b[0m\u001b[1;33m)\u001b[0m\u001b[1;33m\u001b[0m\u001b[1;33m\u001b[0m\u001b[0m\n\u001b[0;32m   6510\u001b[0m \u001b[1;33m\u001b[0m\u001b[0m\n\u001b[1;32m-> 6511\u001b[1;33m         return DataFrameGroupBy(\n\u001b[0m\u001b[0;32m   6512\u001b[0m             \u001b[0mobj\u001b[0m\u001b[1;33m=\u001b[0m\u001b[0mself\u001b[0m\u001b[1;33m,\u001b[0m\u001b[1;33m\u001b[0m\u001b[1;33m\u001b[0m\u001b[0m\n\u001b[0;32m   6513\u001b[0m             \u001b[0mkeys\u001b[0m\u001b[1;33m=\u001b[0m\u001b[0mby\u001b[0m\u001b[1;33m,\u001b[0m\u001b[1;33m\u001b[0m\u001b[1;33m\u001b[0m\u001b[0m\n",
      "\u001b[1;32m~\\anaconda3\\lib\\site-packages\\pandas\\core\\groupby\\groupby.py\u001b[0m in \u001b[0;36m__init__\u001b[1;34m(self, obj, keys, axis, level, grouper, exclusions, selection, as_index, sort, group_keys, squeeze, observed, mutated, dropna)\u001b[0m\n\u001b[0;32m    523\u001b[0m             \u001b[1;32mfrom\u001b[0m \u001b[0mpandas\u001b[0m\u001b[1;33m.\u001b[0m\u001b[0mcore\u001b[0m\u001b[1;33m.\u001b[0m\u001b[0mgroupby\u001b[0m\u001b[1;33m.\u001b[0m\u001b[0mgrouper\u001b[0m \u001b[1;32mimport\u001b[0m \u001b[0mget_grouper\u001b[0m\u001b[1;33m\u001b[0m\u001b[1;33m\u001b[0m\u001b[0m\n\u001b[0;32m    524\u001b[0m \u001b[1;33m\u001b[0m\u001b[0m\n\u001b[1;32m--> 525\u001b[1;33m             grouper, exclusions, obj = get_grouper(\n\u001b[0m\u001b[0;32m    526\u001b[0m                 \u001b[0mobj\u001b[0m\u001b[1;33m,\u001b[0m\u001b[1;33m\u001b[0m\u001b[1;33m\u001b[0m\u001b[0m\n\u001b[0;32m    527\u001b[0m                 \u001b[0mkeys\u001b[0m\u001b[1;33m,\u001b[0m\u001b[1;33m\u001b[0m\u001b[1;33m\u001b[0m\u001b[0m\n",
      "\u001b[1;32m~\\anaconda3\\lib\\site-packages\\pandas\\core\\groupby\\grouper.py\u001b[0m in \u001b[0;36mget_grouper\u001b[1;34m(obj, key, axis, level, sort, observed, mutated, validate, dropna)\u001b[0m\n\u001b[0;32m    779\u001b[0m                 \u001b[0min_axis\u001b[0m\u001b[1;33m,\u001b[0m \u001b[0mname\u001b[0m\u001b[1;33m,\u001b[0m \u001b[0mlevel\u001b[0m\u001b[1;33m,\u001b[0m \u001b[0mgpr\u001b[0m \u001b[1;33m=\u001b[0m \u001b[1;32mFalse\u001b[0m\u001b[1;33m,\u001b[0m \u001b[1;32mNone\u001b[0m\u001b[1;33m,\u001b[0m \u001b[0mgpr\u001b[0m\u001b[1;33m,\u001b[0m \u001b[1;32mNone\u001b[0m\u001b[1;33m\u001b[0m\u001b[1;33m\u001b[0m\u001b[0m\n\u001b[0;32m    780\u001b[0m             \u001b[1;32melse\u001b[0m\u001b[1;33m:\u001b[0m\u001b[1;33m\u001b[0m\u001b[1;33m\u001b[0m\u001b[0m\n\u001b[1;32m--> 781\u001b[1;33m                 \u001b[1;32mraise\u001b[0m \u001b[0mKeyError\u001b[0m\u001b[1;33m(\u001b[0m\u001b[0mgpr\u001b[0m\u001b[1;33m)\u001b[0m\u001b[1;33m\u001b[0m\u001b[1;33m\u001b[0m\u001b[0m\n\u001b[0m\u001b[0;32m    782\u001b[0m         \u001b[1;32melif\u001b[0m \u001b[0misinstance\u001b[0m\u001b[1;33m(\u001b[0m\u001b[0mgpr\u001b[0m\u001b[1;33m,\u001b[0m \u001b[0mGrouper\u001b[0m\u001b[1;33m)\u001b[0m \u001b[1;32mand\u001b[0m \u001b[0mgpr\u001b[0m\u001b[1;33m.\u001b[0m\u001b[0mkey\u001b[0m \u001b[1;32mis\u001b[0m \u001b[1;32mnot\u001b[0m \u001b[1;32mNone\u001b[0m\u001b[1;33m:\u001b[0m\u001b[1;33m\u001b[0m\u001b[1;33m\u001b[0m\u001b[0m\n\u001b[0;32m    783\u001b[0m             \u001b[1;31m# Add key to exclusions\u001b[0m\u001b[1;33m\u001b[0m\u001b[1;33m\u001b[0m\u001b[1;33m\u001b[0m\u001b[0m\n",
      "\u001b[1;31mKeyError\u001b[0m: 'month_yr'"
     ]
    }
   ],
   "source": [
    "#These are customers with more than 1 customer IDs and so could be said to be duplicates as customer_id column pertain to number of orders and customer count\n",
    "\n",
    "df_duplicate1 = bgs_raw_df[bgs_raw_df.customer_id.duplicated(keep=False)].groupby(['customer_id', 'date', 'month_yr']).sum().reset_index()\n",
    "df_duplicate1.head()"
   ]
  },
  {
   "cell_type": "code",
   "execution_count": 143,
   "metadata": {},
   "outputs": [
    {
     "data": {
      "text/html": [
       "<div>\n",
       "<style scoped>\n",
       "    .dataframe tbody tr th:only-of-type {\n",
       "        vertical-align: middle;\n",
       "    }\n",
       "\n",
       "    .dataframe tbody tr th {\n",
       "        vertical-align: top;\n",
       "    }\n",
       "\n",
       "    .dataframe thead th {\n",
       "        text-align: right;\n",
       "    }\n",
       "</style>\n",
       "<table border=\"1\" class=\"dataframe\">\n",
       "  <thead>\n",
       "    <tr style=\"text-align: right;\">\n",
       "      <th></th>\n",
       "      <th>date</th>\n",
       "      <th>month_yr</th>\n",
       "      <th>total_sales</th>\n",
       "    </tr>\n",
       "    <tr>\n",
       "      <th>customer_id</th>\n",
       "      <th></th>\n",
       "      <th></th>\n",
       "      <th></th>\n",
       "    </tr>\n",
       "  </thead>\n",
       "  <tbody>\n",
       "    <tr>\n",
       "      <th>00008280-429D-495F-BB87-893438746905</th>\n",
       "      <td>2019-06-07 13:45:00</td>\n",
       "      <td>Jun-2019</td>\n",
       "      <td>21.62</td>\n",
       "    </tr>\n",
       "    <tr>\n",
       "      <th>0002986C-781F-4E03-9CFA-F77CA5E89649</th>\n",
       "      <td>2020-02-28 10:15:00</td>\n",
       "      <td>Feb-2020</td>\n",
       "      <td>34.08</td>\n",
       "    </tr>\n",
       "    <tr>\n",
       "      <th>0002EC82-C129-4573-8104-04BAF40230AD</th>\n",
       "      <td>2020-10-09 16:00:00</td>\n",
       "      <td>Oct-2020</td>\n",
       "      <td>34.33</td>\n",
       "    </tr>\n",
       "    <tr>\n",
       "      <th>000443B3-11A4-4776-A60E-DBD9E47D0698</th>\n",
       "      <td>2020-01-22 05:45:00</td>\n",
       "      <td>Jan-2020</td>\n",
       "      <td>57.09</td>\n",
       "    </tr>\n",
       "    <tr>\n",
       "      <th>00051E9E-1A3B-4AA9-BED9-2E3D6377B88F</th>\n",
       "      <td>2021-02-19 19:13:00</td>\n",
       "      <td>Feb-2021</td>\n",
       "      <td>16.63</td>\n",
       "    </tr>\n",
       "  </tbody>\n",
       "</table>\n",
       "</div>"
      ],
      "text/plain": [
       "                                                    date  month_yr  \\\n",
       "customer_id                                                          \n",
       "00008280-429D-495F-BB87-893438746905 2019-06-07 13:45:00  Jun-2019   \n",
       "0002986C-781F-4E03-9CFA-F77CA5E89649 2020-02-28 10:15:00  Feb-2020   \n",
       "0002EC82-C129-4573-8104-04BAF40230AD 2020-10-09 16:00:00  Oct-2020   \n",
       "000443B3-11A4-4776-A60E-DBD9E47D0698 2020-01-22 05:45:00  Jan-2020   \n",
       "00051E9E-1A3B-4AA9-BED9-2E3D6377B88F 2021-02-19 19:13:00  Feb-2021   \n",
       "\n",
       "                                      total_sales  \n",
       "customer_id                                        \n",
       "00008280-429D-495F-BB87-893438746905        21.62  \n",
       "0002986C-781F-4E03-9CFA-F77CA5E89649        34.08  \n",
       "0002EC82-C129-4573-8104-04BAF40230AD        34.33  \n",
       "000443B3-11A4-4776-A60E-DBD9E47D0698        57.09  \n",
       "00051E9E-1A3B-4AA9-BED9-2E3D6377B88F        16.63  "
      ]
     },
     "execution_count": 143,
     "metadata": {},
     "output_type": "execute_result"
    }
   ],
   "source": [
    "df_first = df_duplicate1.sort_values(['date']).groupby('customer_id').first()\n",
    "df_first.head()"
   ]
  },
  {
   "cell_type": "code",
   "execution_count": 144,
   "metadata": {},
   "outputs": [],
   "source": [
    "df_first = df_first.reset_index()"
   ]
  },
  {
   "cell_type": "code",
   "execution_count": 145,
   "metadata": {},
   "outputs": [
    {
     "data": {
      "text/html": [
       "<div>\n",
       "<style scoped>\n",
       "    .dataframe tbody tr th:only-of-type {\n",
       "        vertical-align: middle;\n",
       "    }\n",
       "\n",
       "    .dataframe tbody tr th {\n",
       "        vertical-align: top;\n",
       "    }\n",
       "\n",
       "    .dataframe thead th {\n",
       "        text-align: right;\n",
       "    }\n",
       "</style>\n",
       "<table border=\"1\" class=\"dataframe\">\n",
       "  <thead>\n",
       "    <tr style=\"text-align: right;\">\n",
       "      <th></th>\n",
       "      <th>customer_id</th>\n",
       "      <th>date</th>\n",
       "      <th>month_yr</th>\n",
       "      <th>total_sales</th>\n",
       "    </tr>\n",
       "  </thead>\n",
       "  <tbody>\n",
       "    <tr>\n",
       "      <th>0</th>\n",
       "      <td>00008280-429D-495F-BB87-893438746905</td>\n",
       "      <td>2019-06-07 13:45:00</td>\n",
       "      <td>Jun-2019</td>\n",
       "      <td>21.62</td>\n",
       "    </tr>\n",
       "    <tr>\n",
       "      <th>1</th>\n",
       "      <td>0002986C-781F-4E03-9CFA-F77CA5E89649</td>\n",
       "      <td>2020-02-28 10:15:00</td>\n",
       "      <td>Feb-2020</td>\n",
       "      <td>34.08</td>\n",
       "    </tr>\n",
       "    <tr>\n",
       "      <th>2</th>\n",
       "      <td>0002EC82-C129-4573-8104-04BAF40230AD</td>\n",
       "      <td>2020-10-09 16:00:00</td>\n",
       "      <td>Oct-2020</td>\n",
       "      <td>34.33</td>\n",
       "    </tr>\n",
       "    <tr>\n",
       "      <th>3</th>\n",
       "      <td>000443B3-11A4-4776-A60E-DBD9E47D0698</td>\n",
       "      <td>2020-01-22 05:45:00</td>\n",
       "      <td>Jan-2020</td>\n",
       "      <td>57.09</td>\n",
       "    </tr>\n",
       "    <tr>\n",
       "      <th>4</th>\n",
       "      <td>00051E9E-1A3B-4AA9-BED9-2E3D6377B88F</td>\n",
       "      <td>2021-02-19 19:13:00</td>\n",
       "      <td>Feb-2021</td>\n",
       "      <td>16.63</td>\n",
       "    </tr>\n",
       "  </tbody>\n",
       "</table>\n",
       "</div>"
      ],
      "text/plain": [
       "                            customer_id                date  month_yr  \\\n",
       "0  00008280-429D-495F-BB87-893438746905 2019-06-07 13:45:00  Jun-2019   \n",
       "1  0002986C-781F-4E03-9CFA-F77CA5E89649 2020-02-28 10:15:00  Feb-2020   \n",
       "2  0002EC82-C129-4573-8104-04BAF40230AD 2020-10-09 16:00:00  Oct-2020   \n",
       "3  000443B3-11A4-4776-A60E-DBD9E47D0698 2020-01-22 05:45:00  Jan-2020   \n",
       "4  00051E9E-1A3B-4AA9-BED9-2E3D6377B88F 2021-02-19 19:13:00  Feb-2021   \n",
       "\n",
       "   total_sales  \n",
       "0        21.62  \n",
       "1        34.08  \n",
       "2        34.33  \n",
       "3        57.09  \n",
       "4        16.63  "
      ]
     },
     "execution_count": 145,
     "metadata": {},
     "output_type": "execute_result"
    }
   ],
   "source": [
    "df_first.head()"
   ]
  },
  {
   "cell_type": "code",
   "execution_count": 146,
   "metadata": {},
   "outputs": [],
   "source": [
    "df_first_grouped = df_first.groupby(\"month_yr\").agg({\"customer_id\": lambda num: num.count()})"
   ]
  },
  {
   "cell_type": "code",
   "execution_count": 150,
   "metadata": {},
   "outputs": [
    {
     "data": {
      "text/html": [
       "<div>\n",
       "<style scoped>\n",
       "    .dataframe tbody tr th:only-of-type {\n",
       "        vertical-align: middle;\n",
       "    }\n",
       "\n",
       "    .dataframe tbody tr th {\n",
       "        vertical-align: top;\n",
       "    }\n",
       "\n",
       "    .dataframe thead th {\n",
       "        text-align: right;\n",
       "    }\n",
       "</style>\n",
       "<table border=\"1\" class=\"dataframe\">\n",
       "  <thead>\n",
       "    <tr style=\"text-align: right;\">\n",
       "      <th></th>\n",
       "      <th>customer_id</th>\n",
       "    </tr>\n",
       "    <tr>\n",
       "      <th>month_yr</th>\n",
       "      <th></th>\n",
       "    </tr>\n",
       "  </thead>\n",
       "  <tbody>\n",
       "    <tr>\n",
       "      <th>Apr-2017</th>\n",
       "      <td>1824</td>\n",
       "    </tr>\n",
       "    <tr>\n",
       "      <th>Apr-2018</th>\n",
       "      <td>969</td>\n",
       "    </tr>\n",
       "    <tr>\n",
       "      <th>Apr-2019</th>\n",
       "      <td>1533</td>\n",
       "    </tr>\n",
       "    <tr>\n",
       "      <th>Apr-2020</th>\n",
       "      <td>2314</td>\n",
       "    </tr>\n",
       "    <tr>\n",
       "      <th>Apr-2021</th>\n",
       "      <td>790</td>\n",
       "    </tr>\n",
       "  </tbody>\n",
       "</table>\n",
       "</div>"
      ],
      "text/plain": [
       "          customer_id\n",
       "month_yr             \n",
       "Apr-2017         1824\n",
       "Apr-2018          969\n",
       "Apr-2019         1533\n",
       "Apr-2020         2314\n",
       "Apr-2021          790"
      ]
     },
     "execution_count": 150,
     "metadata": {},
     "output_type": "execute_result"
    }
   ],
   "source": [
    "df_first_grouped.head()"
   ]
  },
  {
   "cell_type": "code",
   "execution_count": 149,
   "metadata": {},
   "outputs": [],
   "source": [
    "df_first_grouped.to_csv('bgs_first_order.csv')"
   ]
  },
  {
   "cell_type": "code",
   "execution_count": 95,
   "metadata": {},
   "outputs": [],
   "source": [
    "first_orders = first_orders.reset_index()"
   ]
  },
  {
   "cell_type": "code",
   "execution_count": 96,
   "metadata": {},
   "outputs": [
    {
     "data": {
      "text/html": [
       "<div>\n",
       "<style scoped>\n",
       "    .dataframe tbody tr th:only-of-type {\n",
       "        vertical-align: middle;\n",
       "    }\n",
       "\n",
       "    .dataframe tbody tr th {\n",
       "        vertical-align: top;\n",
       "    }\n",
       "\n",
       "    .dataframe thead th {\n",
       "        text-align: right;\n",
       "    }\n",
       "</style>\n",
       "<table border=\"1\" class=\"dataframe\">\n",
       "  <thead>\n",
       "    <tr style=\"text-align: right;\">\n",
       "      <th></th>\n",
       "      <th>customer_id</th>\n",
       "      <th>order</th>\n",
       "      <th>total_sales</th>\n",
       "      <th>date</th>\n",
       "      <th>site</th>\n",
       "      <th>month_yr</th>\n",
       "    </tr>\n",
       "  </thead>\n",
       "  <tbody>\n",
       "    <tr>\n",
       "      <th>0</th>\n",
       "      <td>000020BA-0E21-4246-9968-6ED13113768A</td>\n",
       "      <td>1165351</td>\n",
       "      <td>14.00</td>\n",
       "      <td>2020-06-30 20:16:00</td>\n",
       "      <td>UKB2C</td>\n",
       "      <td>Jun-2020</td>\n",
       "    </tr>\n",
       "    <tr>\n",
       "      <th>1</th>\n",
       "      <td>00004040-BFD2-492B-A752-BE9459B3FE22</td>\n",
       "      <td>1075381</td>\n",
       "      <td>42.85</td>\n",
       "      <td>2020-03-19 11:02:00</td>\n",
       "      <td>NLB2C</td>\n",
       "      <td>Mar-2020</td>\n",
       "    </tr>\n",
       "    <tr>\n",
       "      <th>2</th>\n",
       "      <td>000058D5-2DBE-4251-8448-9B1CFA15FF49</td>\n",
       "      <td>756499</td>\n",
       "      <td>61.82</td>\n",
       "      <td>2018-02-03 00:38:00</td>\n",
       "      <td>FRB2C</td>\n",
       "      <td>Feb-2018</td>\n",
       "    </tr>\n",
       "    <tr>\n",
       "      <th>3</th>\n",
       "      <td>00008280-429D-495F-BB87-893438746905</td>\n",
       "      <td>945161</td>\n",
       "      <td>21.62</td>\n",
       "      <td>2019-06-07 13:45:00</td>\n",
       "      <td>NLB2C</td>\n",
       "      <td>Jun-2019</td>\n",
       "    </tr>\n",
       "    <tr>\n",
       "      <th>4</th>\n",
       "      <td>0000C6A2-65BD-4E02-B96E-8E0E8CC25235</td>\n",
       "      <td>1455784</td>\n",
       "      <td>51.96</td>\n",
       "      <td>2021-08-11 14:28:00</td>\n",
       "      <td>NLB2C</td>\n",
       "      <td>Aug-2021</td>\n",
       "    </tr>\n",
       "  </tbody>\n",
       "</table>\n",
       "</div>"
      ],
      "text/plain": [
       "                            customer_id    order  total_sales  \\\n",
       "0  000020BA-0E21-4246-9968-6ED13113768A  1165351        14.00   \n",
       "1  00004040-BFD2-492B-A752-BE9459B3FE22  1075381        42.85   \n",
       "2  000058D5-2DBE-4251-8448-9B1CFA15FF49   756499        61.82   \n",
       "3  00008280-429D-495F-BB87-893438746905   945161        21.62   \n",
       "4  0000C6A2-65BD-4E02-B96E-8E0E8CC25235  1455784        51.96   \n",
       "\n",
       "                 date   site  month_yr  \n",
       "0 2020-06-30 20:16:00  UKB2C  Jun-2020  \n",
       "1 2020-03-19 11:02:00  NLB2C  Mar-2020  \n",
       "2 2018-02-03 00:38:00  FRB2C  Feb-2018  \n",
       "3 2019-06-07 13:45:00  NLB2C  Jun-2019  \n",
       "4 2021-08-11 14:28:00  NLB2C  Aug-2021  "
      ]
     },
     "execution_count": 96,
     "metadata": {},
     "output_type": "execute_result"
    }
   ],
   "source": [
    "first_orders.head()"
   ]
  },
  {
   "cell_type": "code",
   "execution_count": null,
   "metadata": {},
   "outputs": [],
   "source": [
    "df_repeat_order = out.groupby(\"month_yr\").agg({\"customer_id\": lambda num: num.count()})"
   ]
  },
  {
   "cell_type": "code",
   "execution_count": 125,
   "metadata": {},
   "outputs": [
    {
     "data": {
      "text/plain": [
       "223575"
      ]
     },
     "execution_count": 125,
     "metadata": {},
     "output_type": "execute_result"
    }
   ],
   "source": [
    "len(first_orders.customer_id)"
   ]
  },
  {
   "cell_type": "code",
   "execution_count": 126,
   "metadata": {},
   "outputs": [
    {
     "data": {
      "text/plain": [
       "490115"
      ]
     },
     "execution_count": 126,
     "metadata": {},
     "output_type": "execute_result"
    }
   ],
   "source": [
    "len(bgs_raw_df.customer_id)"
   ]
  },
  {
   "cell_type": "code",
   "execution_count": 111,
   "metadata": {},
   "outputs": [
    {
     "name": "stdout",
     "output_type": "stream",
     "text": [
      "266540\n"
     ]
    }
   ],
   "source": [
    "print( all_cust - first)"
   ]
  },
  {
   "cell_type": "code",
   "execution_count": 97,
   "metadata": {},
   "outputs": [],
   "source": [
    "ids = first_orders.order"
   ]
  },
  {
   "cell_type": "code",
   "execution_count": 102,
   "metadata": {},
   "outputs": [
    {
     "data": {
      "text/plain": [
       "0         1165351\n",
       "1         1075381\n",
       "2          756499\n",
       "3          945161\n",
       "4         1455784\n",
       "           ...   \n",
       "223570    1005091\n",
       "223571     797034\n",
       "223572    1371176\n",
       "223573     693207\n",
       "223574    1348103\n",
       "Name: order, Length: 223575, dtype: object"
      ]
     },
     "execution_count": 102,
     "metadata": {},
     "output_type": "execute_result"
    }
   ],
   "source": [
    "ids "
   ]
  },
  {
   "cell_type": "code",
   "execution_count": 77,
   "metadata": {},
   "outputs": [
    {
     "data": {
      "text/plain": [
       "customer_id            object\n",
       "oder                   object\n",
       "total_sales           float64\n",
       "date           datetime64[ns]\n",
       "site                   object\n",
       "month_yr               object\n",
       "dtype: object"
      ]
     },
     "execution_count": 77,
     "metadata": {},
     "output_type": "execute_result"
    }
   ],
   "source": [
    " bgs_raw_df.dtypes"
   ]
  },
  {
   "cell_type": "code",
   "execution_count": 130,
   "metadata": {},
   "outputs": [],
   "source": [
    "out = pd.merge(bgs_raw_df,first_orders, how='outer', indicator=True)\n",
    "out = out[out._merge.ne('both')].drop('_merge',1)"
   ]
  },
  {
   "cell_type": "code",
   "execution_count": 105,
   "metadata": {},
   "outputs": [
    {
     "name": "stdout",
     "output_type": "stream",
     "text": [
      "Empty DataFrame\n",
      "Columns: [customer_id, order, total_sales, date, site, month_yr, _merge]\n",
      "Index: []\n"
     ]
    }
   ],
   "source": [
    "print(out.loc[out['order'] == '1348103'])"
   ]
  },
  {
   "cell_type": "code",
   "execution_count": 112,
   "metadata": {},
   "outputs": [],
   "source": [
    "repeat_total_revenue = out.groupby('month_yr')[['total_sales']].sum()"
   ]
  },
  {
   "cell_type": "code",
   "execution_count": 173,
   "metadata": {},
   "outputs": [
    {
     "data": {
      "text/html": [
       "<div>\n",
       "<style scoped>\n",
       "    .dataframe tbody tr th:only-of-type {\n",
       "        vertical-align: middle;\n",
       "    }\n",
       "\n",
       "    .dataframe tbody tr th {\n",
       "        vertical-align: top;\n",
       "    }\n",
       "\n",
       "    .dataframe thead th {\n",
       "        text-align: right;\n",
       "    }\n",
       "</style>\n",
       "<table border=\"1\" class=\"dataframe\">\n",
       "  <thead>\n",
       "    <tr style=\"text-align: right;\">\n",
       "      <th></th>\n",
       "      <th>total_sales</th>\n",
       "    </tr>\n",
       "    <tr>\n",
       "      <th>month_yr</th>\n",
       "      <th></th>\n",
       "    </tr>\n",
       "  </thead>\n",
       "  <tbody>\n",
       "    <tr>\n",
       "      <th>Apr-2017</th>\n",
       "      <td>287812.160</td>\n",
       "    </tr>\n",
       "    <tr>\n",
       "      <th>Apr-2018</th>\n",
       "      <td>331937.540</td>\n",
       "    </tr>\n",
       "    <tr>\n",
       "      <th>Apr-2019</th>\n",
       "      <td>447031.004</td>\n",
       "    </tr>\n",
       "    <tr>\n",
       "      <th>Apr-2020</th>\n",
       "      <td>642317.400</td>\n",
       "    </tr>\n",
       "    <tr>\n",
       "      <th>Apr-2021</th>\n",
       "      <td>612717.230</td>\n",
       "    </tr>\n",
       "  </tbody>\n",
       "</table>\n",
       "</div>"
      ],
      "text/plain": [
       "          total_sales\n",
       "month_yr             \n",
       "Apr-2017   287812.160\n",
       "Apr-2018   331937.540\n",
       "Apr-2019   447031.004\n",
       "Apr-2020   642317.400\n",
       "Apr-2021   612717.230"
      ]
     },
     "execution_count": 173,
     "metadata": {},
     "output_type": "execute_result"
    }
   ],
   "source": [
    "repeat_total_revenue.head()"
   ]
  },
  {
   "cell_type": "code",
   "execution_count": 131,
   "metadata": {},
   "outputs": [
    {
     "data": {
      "text/plain": [
       "(266540, 6)"
      ]
     },
     "execution_count": 131,
     "metadata": {},
     "output_type": "execute_result"
    }
   ],
   "source": [
    "out.shape"
   ]
  },
  {
   "cell_type": "code",
   "execution_count": 132,
   "metadata": {},
   "outputs": [],
   "source": [
    "df_repeat_order = out.groupby(\"month_yr\").agg({\"customer_id\": lambda num: num.count()})"
   ]
  },
  {
   "cell_type": "code",
   "execution_count": 133,
   "metadata": {},
   "outputs": [
    {
     "data": {
      "text/html": [
       "<div>\n",
       "<style scoped>\n",
       "    .dataframe tbody tr th:only-of-type {\n",
       "        vertical-align: middle;\n",
       "    }\n",
       "\n",
       "    .dataframe tbody tr th {\n",
       "        vertical-align: top;\n",
       "    }\n",
       "\n",
       "    .dataframe thead th {\n",
       "        text-align: right;\n",
       "    }\n",
       "</style>\n",
       "<table border=\"1\" class=\"dataframe\">\n",
       "  <thead>\n",
       "    <tr style=\"text-align: right;\">\n",
       "      <th></th>\n",
       "      <th>customer_id</th>\n",
       "    </tr>\n",
       "    <tr>\n",
       "      <th>month_yr</th>\n",
       "      <th></th>\n",
       "    </tr>\n",
       "  </thead>\n",
       "  <tbody>\n",
       "    <tr>\n",
       "      <th>Apr-2017</th>\n",
       "      <td>2255</td>\n",
       "    </tr>\n",
       "    <tr>\n",
       "      <th>Apr-2018</th>\n",
       "      <td>3948</td>\n",
       "    </tr>\n",
       "    <tr>\n",
       "      <th>Apr-2019</th>\n",
       "      <td>4628</td>\n",
       "    </tr>\n",
       "    <tr>\n",
       "      <th>Apr-2020</th>\n",
       "      <td>6267</td>\n",
       "    </tr>\n",
       "    <tr>\n",
       "      <th>Apr-2021</th>\n",
       "      <td>6807</td>\n",
       "    </tr>\n",
       "  </tbody>\n",
       "</table>\n",
       "</div>"
      ],
      "text/plain": [
       "          customer_id\n",
       "month_yr             \n",
       "Apr-2017         2255\n",
       "Apr-2018         3948\n",
       "Apr-2019         4628\n",
       "Apr-2020         6267\n",
       "Apr-2021         6807"
      ]
     },
     "execution_count": 133,
     "metadata": {},
     "output_type": "execute_result"
    }
   ],
   "source": [
    "df_repeat_order.head()"
   ]
  },
  {
   "cell_type": "code",
   "execution_count": 135,
   "metadata": {},
   "outputs": [],
   "source": [
    "result = pd.concat([df_repeat_order, repeat_total_revenue], axis=1)"
   ]
  },
  {
   "cell_type": "code",
   "execution_count": 138,
   "metadata": {},
   "outputs": [
    {
     "data": {
      "text/html": [
       "<div>\n",
       "<style scoped>\n",
       "    .dataframe tbody tr th:only-of-type {\n",
       "        vertical-align: middle;\n",
       "    }\n",
       "\n",
       "    .dataframe tbody tr th {\n",
       "        vertical-align: top;\n",
       "    }\n",
       "\n",
       "    .dataframe thead th {\n",
       "        text-align: right;\n",
       "    }\n",
       "</style>\n",
       "<table border=\"1\" class=\"dataframe\">\n",
       "  <thead>\n",
       "    <tr style=\"text-align: right;\">\n",
       "      <th></th>\n",
       "      <th>customer_id</th>\n",
       "      <th>total_sales</th>\n",
       "    </tr>\n",
       "    <tr>\n",
       "      <th>month_yr</th>\n",
       "      <th></th>\n",
       "      <th></th>\n",
       "    </tr>\n",
       "  </thead>\n",
       "  <tbody>\n",
       "    <tr>\n",
       "      <th>Apr-2017</th>\n",
       "      <td>2255</td>\n",
       "      <td>287812.160</td>\n",
       "    </tr>\n",
       "    <tr>\n",
       "      <th>Apr-2018</th>\n",
       "      <td>3948</td>\n",
       "      <td>331937.540</td>\n",
       "    </tr>\n",
       "    <tr>\n",
       "      <th>Apr-2019</th>\n",
       "      <td>4628</td>\n",
       "      <td>447031.004</td>\n",
       "    </tr>\n",
       "    <tr>\n",
       "      <th>Apr-2020</th>\n",
       "      <td>6267</td>\n",
       "      <td>642317.400</td>\n",
       "    </tr>\n",
       "    <tr>\n",
       "      <th>Apr-2021</th>\n",
       "      <td>6807</td>\n",
       "      <td>612717.230</td>\n",
       "    </tr>\n",
       "  </tbody>\n",
       "</table>\n",
       "</div>"
      ],
      "text/plain": [
       "          customer_id  total_sales\n",
       "month_yr                          \n",
       "Apr-2017         2255   287812.160\n",
       "Apr-2018         3948   331937.540\n",
       "Apr-2019         4628   447031.004\n",
       "Apr-2020         6267   642317.400\n",
       "Apr-2021         6807   612717.230"
      ]
     },
     "execution_count": 138,
     "metadata": {},
     "output_type": "execute_result"
    }
   ],
   "source": [
    "result.head()"
   ]
  },
  {
   "cell_type": "code",
   "execution_count": 137,
   "metadata": {},
   "outputs": [],
   "source": [
    "result.to_csv('bgs_repeat_orders_and_rev.csv')"
   ]
  },
  {
   "cell_type": "code",
   "execution_count": 35,
   "metadata": {},
   "outputs": [
    {
     "data": {
      "text/plain": [
       "array(['A5DDA420-302C-49C1-A85F-00010646EF9F',\n",
       "       '18DBDE67-B2B3-4DA4-84F4-0003289438DF',\n",
       "       'D10B31A4-D79A-42BB-BBB5-0004434B7E1E', ...,\n",
       "       '852429D1-B3FA-4252-84A7-FFF765AC266C',\n",
       "       'B63DF32E-1C40-4C19-8E8E-FFFA241895CD',\n",
       "       '6DA77EA5-5FA6-4A20-A08B-FFFC252ADDD2'], dtype=object)"
      ]
     },
     "execution_count": 35,
     "metadata": {},
     "output_type": "execute_result"
    }
   ],
   "source": [
    "bgs_raw_df.customer_id.unique()"
   ]
  },
  {
   "cell_type": "code",
   "execution_count": 36,
   "metadata": {},
   "outputs": [],
   "source": [
    "ids = bgs_raw_df['customer_id'].unique()"
   ]
  },
  {
   "cell_type": "code",
   "execution_count": 52,
   "metadata": {},
   "outputs": [],
   "source": [
    "bgs_raw_df_copy = bgs_raw_df.copy()"
   ]
  },
  {
   "cell_type": "code",
   "execution_count": 57,
   "metadata": {},
   "outputs": [],
   "source": [
    "bgs_raw_df_copy = bgs_raw_df_copy.drop_duplicates(subset='customer_id', keep=\"last\")"
   ]
  },
  {
   "cell_type": "code",
   "execution_count": 58,
   "metadata": {},
   "outputs": [
    {
     "data": {
      "text/plain": [
       "(223575, 6)"
      ]
     },
     "execution_count": 58,
     "metadata": {},
     "output_type": "execute_result"
    }
   ],
   "source": [
    "bgs_raw_df_copy.shape"
   ]
  },
  {
   "cell_type": "code",
   "execution_count": 47,
   "metadata": {},
   "outputs": [],
   "source": [
    "subset_df = bgs_raw_df[bgs_raw_df['customer_id'].isin(ids)].groupby(['month_yr', 'customer_id']).sum().reset_index()"
   ]
  },
  {
   "cell_type": "code",
   "execution_count": 48,
   "metadata": {},
   "outputs": [
    {
     "data": {
      "text/html": [
       "<div>\n",
       "<style scoped>\n",
       "    .dataframe tbody tr th:only-of-type {\n",
       "        vertical-align: middle;\n",
       "    }\n",
       "\n",
       "    .dataframe tbody tr th {\n",
       "        vertical-align: top;\n",
       "    }\n",
       "\n",
       "    .dataframe thead th {\n",
       "        text-align: right;\n",
       "    }\n",
       "</style>\n",
       "<table border=\"1\" class=\"dataframe\">\n",
       "  <thead>\n",
       "    <tr style=\"text-align: right;\">\n",
       "      <th></th>\n",
       "      <th>month_yr</th>\n",
       "      <th>customer_id</th>\n",
       "      <th>total_sales</th>\n",
       "    </tr>\n",
       "  </thead>\n",
       "  <tbody>\n",
       "    <tr>\n",
       "      <th>0</th>\n",
       "      <td>Apr-2017</td>\n",
       "      <td>002FBF1C-2989-4365-824B-C6FDF7B66CDC</td>\n",
       "      <td>16.40</td>\n",
       "    </tr>\n",
       "    <tr>\n",
       "      <th>1</th>\n",
       "      <td>Apr-2017</td>\n",
       "      <td>0044B440-7F99-4707-9F2C-31046F660336</td>\n",
       "      <td>36.18</td>\n",
       "    </tr>\n",
       "    <tr>\n",
       "      <th>2</th>\n",
       "      <td>Apr-2017</td>\n",
       "      <td>005EA510-C735-4BA6-BAA0-0601916988C3</td>\n",
       "      <td>43.71</td>\n",
       "    </tr>\n",
       "    <tr>\n",
       "      <th>3</th>\n",
       "      <td>Apr-2017</td>\n",
       "      <td>006A6E8C-68E2-4E3A-B836-B1C57E6A789F</td>\n",
       "      <td>17.10</td>\n",
       "    </tr>\n",
       "    <tr>\n",
       "      <th>4</th>\n",
       "      <td>Apr-2017</td>\n",
       "      <td>00711346-03F7-483A-B066-F2CD6A7A3310</td>\n",
       "      <td>121.41</td>\n",
       "    </tr>\n",
       "  </tbody>\n",
       "</table>\n",
       "</div>"
      ],
      "text/plain": [
       "   month_yr                           customer_id  total_sales\n",
       "0  Apr-2017  002FBF1C-2989-4365-824B-C6FDF7B66CDC        16.40\n",
       "1  Apr-2017  0044B440-7F99-4707-9F2C-31046F660336        36.18\n",
       "2  Apr-2017  005EA510-C735-4BA6-BAA0-0601916988C3        43.71\n",
       "3  Apr-2017  006A6E8C-68E2-4E3A-B836-B1C57E6A789F        17.10\n",
       "4  Apr-2017  00711346-03F7-483A-B066-F2CD6A7A3310       121.41"
      ]
     },
     "execution_count": 48,
     "metadata": {},
     "output_type": "execute_result"
    }
   ],
   "source": [
    "subset_df .head()"
   ]
  },
  {
   "cell_type": "code",
   "execution_count": 59,
   "metadata": {},
   "outputs": [],
   "source": [
    "df_subset = bgs_raw_df_copy.groupby(\"month_yr\").agg({\"customer_id\": lambda num: num.count(),\n",
    "                                      \"total_sales\": lambda price: price.sum()})"
   ]
  },
  {
   "cell_type": "code",
   "execution_count": 60,
   "metadata": {},
   "outputs": [
    {
     "data": {
      "text/html": [
       "<div>\n",
       "<style scoped>\n",
       "    .dataframe tbody tr th:only-of-type {\n",
       "        vertical-align: middle;\n",
       "    }\n",
       "\n",
       "    .dataframe tbody tr th {\n",
       "        vertical-align: top;\n",
       "    }\n",
       "\n",
       "    .dataframe thead th {\n",
       "        text-align: right;\n",
       "    }\n",
       "</style>\n",
       "<table border=\"1\" class=\"dataframe\">\n",
       "  <thead>\n",
       "    <tr style=\"text-align: right;\">\n",
       "      <th></th>\n",
       "      <th>customer_id</th>\n",
       "      <th>total_sales</th>\n",
       "    </tr>\n",
       "    <tr>\n",
       "      <th>month_yr</th>\n",
       "      <th></th>\n",
       "      <th></th>\n",
       "    </tr>\n",
       "  </thead>\n",
       "  <tbody>\n",
       "    <tr>\n",
       "      <th>Apr-2017</th>\n",
       "      <td>2142</td>\n",
       "      <td>92606.14</td>\n",
       "    </tr>\n",
       "    <tr>\n",
       "      <th>Apr-2018</th>\n",
       "      <td>2159</td>\n",
       "      <td>95922.31</td>\n",
       "    </tr>\n",
       "    <tr>\n",
       "      <th>Apr-2019</th>\n",
       "      <td>4126</td>\n",
       "      <td>164055.06</td>\n",
       "    </tr>\n",
       "    <tr>\n",
       "      <th>Apr-2020</th>\n",
       "      <td>7428</td>\n",
       "      <td>285375.32</td>\n",
       "    </tr>\n",
       "    <tr>\n",
       "      <th>Apr-2021</th>\n",
       "      <td>6613</td>\n",
       "      <td>288359.03</td>\n",
       "    </tr>\n",
       "  </tbody>\n",
       "</table>\n",
       "</div>"
      ],
      "text/plain": [
       "          customer_id  total_sales\n",
       "month_yr                          \n",
       "Apr-2017         2142     92606.14\n",
       "Apr-2018         2159     95922.31\n",
       "Apr-2019         4126    164055.06\n",
       "Apr-2020         7428    285375.32\n",
       "Apr-2021         6613    288359.03"
      ]
     },
     "execution_count": 60,
     "metadata": {},
     "output_type": "execute_result"
    }
   ],
   "source": [
    "df_subset.head()"
   ]
  },
  {
   "cell_type": "code",
   "execution_count": 61,
   "metadata": {},
   "outputs": [],
   "source": [
    "df_subset = df_subset.reset_index()"
   ]
  },
  {
   "cell_type": "code",
   "execution_count": 64,
   "metadata": {},
   "outputs": [],
   "source": [
    "df_subset.to_csv('bgs_month_unique_customers.csv')"
   ]
  },
  {
   "cell_type": "code",
   "execution_count": 18,
   "metadata": {},
   "outputs": [],
   "source": [
    "total_orders = bgs_raw_df.groupby('month_yr')[['customer_id']].count()"
   ]
  },
  {
   "cell_type": "code",
   "execution_count": 30,
   "metadata": {},
   "outputs": [
    {
     "data": {
      "text/html": [
       "<div>\n",
       "<style scoped>\n",
       "    .dataframe tbody tr th:only-of-type {\n",
       "        vertical-align: middle;\n",
       "    }\n",
       "\n",
       "    .dataframe tbody tr th {\n",
       "        vertical-align: top;\n",
       "    }\n",
       "\n",
       "    .dataframe thead th {\n",
       "        text-align: right;\n",
       "    }\n",
       "</style>\n",
       "<table border=\"1\" class=\"dataframe\">\n",
       "  <thead>\n",
       "    <tr style=\"text-align: right;\">\n",
       "      <th></th>\n",
       "      <th>month_yr</th>\n",
       "      <th>total_orders</th>\n",
       "    </tr>\n",
       "  </thead>\n",
       "  <tbody>\n",
       "    <tr>\n",
       "      <th>0</th>\n",
       "      <td>Apr-2017</td>\n",
       "      <td>5532</td>\n",
       "    </tr>\n",
       "    <tr>\n",
       "      <th>1</th>\n",
       "      <td>Apr-2018</td>\n",
       "      <td>6276</td>\n",
       "    </tr>\n",
       "    <tr>\n",
       "      <th>2</th>\n",
       "      <td>Apr-2019</td>\n",
       "      <td>9010</td>\n",
       "    </tr>\n",
       "    <tr>\n",
       "      <th>3</th>\n",
       "      <td>Apr-2020</td>\n",
       "      <td>13991</td>\n",
       "    </tr>\n",
       "    <tr>\n",
       "      <th>4</th>\n",
       "      <td>Apr-2021</td>\n",
       "      <td>12085</td>\n",
       "    </tr>\n",
       "  </tbody>\n",
       "</table>\n",
       "</div>"
      ],
      "text/plain": [
       "   month_yr  total_orders\n",
       "0  Apr-2017          5532\n",
       "1  Apr-2018          6276\n",
       "2  Apr-2019          9010\n",
       "3  Apr-2020         13991\n",
       "4  Apr-2021         12085"
      ]
     },
     "execution_count": 30,
     "metadata": {},
     "output_type": "execute_result"
    }
   ],
   "source": [
    "total_orders.head()"
   ]
  },
  {
   "cell_type": "code",
   "execution_count": 29,
   "metadata": {},
   "outputs": [],
   "source": [
    "total_orders = total_orders.rename(columns={'total_oders': 'total_orders'}).reset_index()"
   ]
  },
  {
   "cell_type": "code",
   "execution_count": 31,
   "metadata": {},
   "outputs": [],
   "source": [
    "total_order.to_csv('bgs_total_orders_by_month.csv')"
   ]
  },
  {
   "cell_type": "code",
   "execution_count": 25,
   "metadata": {},
   "outputs": [],
   "source": [
    "total_revenue = bgs_raw_df.groupby('month_yr')[['total_sales']].sum()"
   ]
  },
  {
   "cell_type": "code",
   "execution_count": 26,
   "metadata": {},
   "outputs": [
    {
     "data": {
      "text/html": [
       "<div>\n",
       "<style scoped>\n",
       "    .dataframe tbody tr th:only-of-type {\n",
       "        vertical-align: middle;\n",
       "    }\n",
       "\n",
       "    .dataframe tbody tr th {\n",
       "        vertical-align: top;\n",
       "    }\n",
       "\n",
       "    .dataframe thead th {\n",
       "        text-align: right;\n",
       "    }\n",
       "</style>\n",
       "<table border=\"1\" class=\"dataframe\">\n",
       "  <thead>\n",
       "    <tr style=\"text-align: right;\">\n",
       "      <th></th>\n",
       "      <th>total_sales</th>\n",
       "    </tr>\n",
       "    <tr>\n",
       "      <th>month_yr</th>\n",
       "      <th></th>\n",
       "    </tr>\n",
       "  </thead>\n",
       "  <tbody>\n",
       "    <tr>\n",
       "      <th>Apr-2017</th>\n",
       "      <td>287812.160</td>\n",
       "    </tr>\n",
       "    <tr>\n",
       "      <th>Apr-2018</th>\n",
       "      <td>331937.540</td>\n",
       "    </tr>\n",
       "    <tr>\n",
       "      <th>Apr-2019</th>\n",
       "      <td>447031.004</td>\n",
       "    </tr>\n",
       "    <tr>\n",
       "      <th>Apr-2020</th>\n",
       "      <td>642317.400</td>\n",
       "    </tr>\n",
       "    <tr>\n",
       "      <th>Apr-2021</th>\n",
       "      <td>612717.230</td>\n",
       "    </tr>\n",
       "  </tbody>\n",
       "</table>\n",
       "</div>"
      ],
      "text/plain": [
       "          total_sales\n",
       "month_yr             \n",
       "Apr-2017   287812.160\n",
       "Apr-2018   331937.540\n",
       "Apr-2019   447031.004\n",
       "Apr-2020   642317.400\n",
       "Apr-2021   612717.230"
      ]
     },
     "execution_count": 26,
     "metadata": {},
     "output_type": "execute_result"
    }
   ],
   "source": [
    "total_revenue.head()"
   ]
  },
  {
   "cell_type": "code",
   "execution_count": 27,
   "metadata": {},
   "outputs": [],
   "source": [
    "total_revenue.to_csv('bgs_total_revenue_by_month.csv')"
   ]
  },
  {
   "cell_type": "markdown",
   "metadata": {},
   "source": [
    "### TOTAL REVENUE"
   ]
  },
  {
   "cell_type": "code",
   "execution_count": 215,
   "metadata": {},
   "outputs": [
    {
     "data": {
      "text/plain": [
       "(490115, 6)"
      ]
     },
     "execution_count": 215,
     "metadata": {},
     "output_type": "execute_result"
    }
   ],
   "source": [
    "df_currency_adjusted.shape"
   ]
  },
  {
   "cell_type": "code",
   "execution_count": 216,
   "metadata": {},
   "outputs": [
    {
     "data": {
      "text/html": [
       "<div>\n",
       "<style scoped>\n",
       "    .dataframe tbody tr th:only-of-type {\n",
       "        vertical-align: middle;\n",
       "    }\n",
       "\n",
       "    .dataframe tbody tr th {\n",
       "        vertical-align: top;\n",
       "    }\n",
       "\n",
       "    .dataframe thead th {\n",
       "        text-align: right;\n",
       "    }\n",
       "</style>\n",
       "<table border=\"1\" class=\"dataframe\">\n",
       "  <thead>\n",
       "    <tr style=\"text-align: right;\">\n",
       "      <th></th>\n",
       "      <th>customer_id</th>\n",
       "      <th>order</th>\n",
       "      <th>total_sales</th>\n",
       "      <th>date</th>\n",
       "      <th>site</th>\n",
       "      <th>month_yr</th>\n",
       "    </tr>\n",
       "  </thead>\n",
       "  <tbody>\n",
       "    <tr>\n",
       "      <th>1</th>\n",
       "      <td>A5DDA420-302C-49C1-A85F-00010646EF9F</td>\n",
       "      <td>1000586</td>\n",
       "      <td>100.093917</td>\n",
       "      <td>2019-10-13 13:20:00</td>\n",
       "      <td>NLB2C</td>\n",
       "      <td>Oct-2019</td>\n",
       "    </tr>\n",
       "    <tr>\n",
       "      <th>2</th>\n",
       "      <td>18DBDE67-B2B3-4DA4-84F4-0003289438DF</td>\n",
       "      <td>1465844</td>\n",
       "      <td>38.803380</td>\n",
       "      <td>2021-08-29 12:36:00</td>\n",
       "      <td>NLB2C</td>\n",
       "      <td>Aug-2021</td>\n",
       "    </tr>\n",
       "    <tr>\n",
       "      <th>6</th>\n",
       "      <td>85D90824-AF8A-42A6-97C8-0005ACF17DBA</td>\n",
       "      <td>845431</td>\n",
       "      <td>48.632430</td>\n",
       "      <td>2018-10-15 21:46:00</td>\n",
       "      <td>NLB2C</td>\n",
       "      <td>Oct-2018</td>\n",
       "    </tr>\n",
       "    <tr>\n",
       "      <th>22</th>\n",
       "      <td>7ED91C06-2841-4C2C-A5B6-000854120774</td>\n",
       "      <td>1002639</td>\n",
       "      <td>15.299130</td>\n",
       "      <td>2019-10-18 16:25:00</td>\n",
       "      <td>NLB2C</td>\n",
       "      <td>Oct-2019</td>\n",
       "    </tr>\n",
       "    <tr>\n",
       "      <th>23</th>\n",
       "      <td>8F8913D5-51C7-456A-BD6B-00092D174B67</td>\n",
       "      <td>1122255</td>\n",
       "      <td>36.239280</td>\n",
       "      <td>2020-05-08 18:06:00</td>\n",
       "      <td>NLB2C</td>\n",
       "      <td>May-2020</td>\n",
       "    </tr>\n",
       "  </tbody>\n",
       "</table>\n",
       "</div>"
      ],
      "text/plain": [
       "                             customer_id    order  total_sales  \\\n",
       "1   A5DDA420-302C-49C1-A85F-00010646EF9F  1000586   100.093917   \n",
       "2   18DBDE67-B2B3-4DA4-84F4-0003289438DF  1465844    38.803380   \n",
       "6   85D90824-AF8A-42A6-97C8-0005ACF17DBA   845431    48.632430   \n",
       "22  7ED91C06-2841-4C2C-A5B6-000854120774  1002639    15.299130   \n",
       "23  8F8913D5-51C7-456A-BD6B-00092D174B67  1122255    36.239280   \n",
       "\n",
       "                  date   site  month_yr  \n",
       "1  2019-10-13 13:20:00  NLB2C  Oct-2019  \n",
       "2  2021-08-29 12:36:00  NLB2C  Aug-2021  \n",
       "6  2018-10-15 21:46:00  NLB2C  Oct-2018  \n",
       "22 2019-10-18 16:25:00  NLB2C  Oct-2019  \n",
       "23 2020-05-08 18:06:00  NLB2C  May-2020  "
      ]
     },
     "execution_count": 216,
     "metadata": {},
     "output_type": "execute_result"
    }
   ],
   "source": [
    "df_currency_adjusted.head()"
   ]
  },
  {
   "cell_type": "code",
   "execution_count": 217,
   "metadata": {},
   "outputs": [
    {
     "data": {
      "text/html": [
       "<div>\n",
       "<style scoped>\n",
       "    .dataframe tbody tr th:only-of-type {\n",
       "        vertical-align: middle;\n",
       "    }\n",
       "\n",
       "    .dataframe tbody tr th {\n",
       "        vertical-align: top;\n",
       "    }\n",
       "\n",
       "    .dataframe thead th {\n",
       "        text-align: right;\n",
       "    }\n",
       "</style>\n",
       "<table border=\"1\" class=\"dataframe\">\n",
       "  <thead>\n",
       "    <tr style=\"text-align: right;\">\n",
       "      <th></th>\n",
       "      <th>total_sales</th>\n",
       "    </tr>\n",
       "    <tr>\n",
       "      <th>month_yr</th>\n",
       "      <th></th>\n",
       "    </tr>\n",
       "  </thead>\n",
       "  <tbody>\n",
       "    <tr>\n",
       "      <th>Apr-2017</th>\n",
       "      <td>266824.022524</td>\n",
       "    </tr>\n",
       "    <tr>\n",
       "      <th>Apr-2018</th>\n",
       "      <td>307508.994936</td>\n",
       "    </tr>\n",
       "    <tr>\n",
       "      <th>Apr-2019</th>\n",
       "      <td>411582.931637</td>\n",
       "    </tr>\n",
       "    <tr>\n",
       "      <th>Apr-2020</th>\n",
       "      <td>597994.951418</td>\n",
       "    </tr>\n",
       "    <tr>\n",
       "      <th>Apr-2021</th>\n",
       "      <td>558384.794160</td>\n",
       "    </tr>\n",
       "  </tbody>\n",
       "</table>\n",
       "</div>"
      ],
      "text/plain": [
       "            total_sales\n",
       "month_yr               \n",
       "Apr-2017  266824.022524\n",
       "Apr-2018  307508.994936\n",
       "Apr-2019  411582.931637\n",
       "Apr-2020  597994.951418\n",
       "Apr-2021  558384.794160"
      ]
     },
     "execution_count": 217,
     "metadata": {},
     "output_type": "execute_result"
    }
   ],
   "source": [
    "df_total_rev_adjusted = df_currency_adjusted.groupby('month_yr')[['total_sales']].sum()\n",
    "df_total_rev_adjusted.head()"
   ]
  },
  {
   "cell_type": "code",
   "execution_count": 218,
   "metadata": {},
   "outputs": [],
   "source": [
    "df_total_rev_adjusted.to_csv('total_rev_adjusted.csv')"
   ]
  },
  {
   "cell_type": "markdown",
   "metadata": {},
   "source": [
    "### CULMULATIVE NEW CUSTOMER REVENUE"
   ]
  },
  {
   "cell_type": "code",
   "execution_count": 220,
   "metadata": {},
   "outputs": [
    {
     "data": {
      "text/html": [
       "<div>\n",
       "<style scoped>\n",
       "    .dataframe tbody tr th:only-of-type {\n",
       "        vertical-align: middle;\n",
       "    }\n",
       "\n",
       "    .dataframe tbody tr th {\n",
       "        vertical-align: top;\n",
       "    }\n",
       "\n",
       "    .dataframe thead th {\n",
       "        text-align: right;\n",
       "    }\n",
       "</style>\n",
       "<table border=\"1\" class=\"dataframe\">\n",
       "  <thead>\n",
       "    <tr style=\"text-align: right;\">\n",
       "      <th></th>\n",
       "      <th>customer_id</th>\n",
       "      <th>order</th>\n",
       "      <th>total_sales</th>\n",
       "      <th>date</th>\n",
       "      <th>site</th>\n",
       "      <th>month_yr</th>\n",
       "    </tr>\n",
       "  </thead>\n",
       "  <tbody>\n",
       "    <tr>\n",
       "      <th>1</th>\n",
       "      <td>A5DDA420-302C-49C1-A85F-00010646EF9F</td>\n",
       "      <td>1000586</td>\n",
       "      <td>100.093917</td>\n",
       "      <td>2019-10-13 13:20:00</td>\n",
       "      <td>NLB2C</td>\n",
       "      <td>Oct-2019</td>\n",
       "    </tr>\n",
       "    <tr>\n",
       "      <th>2</th>\n",
       "      <td>18DBDE67-B2B3-4DA4-84F4-0003289438DF</td>\n",
       "      <td>1465844</td>\n",
       "      <td>38.803380</td>\n",
       "      <td>2021-08-29 12:36:00</td>\n",
       "      <td>NLB2C</td>\n",
       "      <td>Aug-2021</td>\n",
       "    </tr>\n",
       "    <tr>\n",
       "      <th>6</th>\n",
       "      <td>85D90824-AF8A-42A6-97C8-0005ACF17DBA</td>\n",
       "      <td>845431</td>\n",
       "      <td>48.632430</td>\n",
       "      <td>2018-10-15 21:46:00</td>\n",
       "      <td>NLB2C</td>\n",
       "      <td>Oct-2018</td>\n",
       "    </tr>\n",
       "    <tr>\n",
       "      <th>22</th>\n",
       "      <td>7ED91C06-2841-4C2C-A5B6-000854120774</td>\n",
       "      <td>1002639</td>\n",
       "      <td>15.299130</td>\n",
       "      <td>2019-10-18 16:25:00</td>\n",
       "      <td>NLB2C</td>\n",
       "      <td>Oct-2019</td>\n",
       "    </tr>\n",
       "    <tr>\n",
       "      <th>23</th>\n",
       "      <td>8F8913D5-51C7-456A-BD6B-00092D174B67</td>\n",
       "      <td>1122255</td>\n",
       "      <td>36.239280</td>\n",
       "      <td>2020-05-08 18:06:00</td>\n",
       "      <td>NLB2C</td>\n",
       "      <td>May-2020</td>\n",
       "    </tr>\n",
       "  </tbody>\n",
       "</table>\n",
       "</div>"
      ],
      "text/plain": [
       "                             customer_id    order  total_sales  \\\n",
       "1   A5DDA420-302C-49C1-A85F-00010646EF9F  1000586   100.093917   \n",
       "2   18DBDE67-B2B3-4DA4-84F4-0003289438DF  1465844    38.803380   \n",
       "6   85D90824-AF8A-42A6-97C8-0005ACF17DBA   845431    48.632430   \n",
       "22  7ED91C06-2841-4C2C-A5B6-000854120774  1002639    15.299130   \n",
       "23  8F8913D5-51C7-456A-BD6B-00092D174B67  1122255    36.239280   \n",
       "\n",
       "                  date   site  month_yr  \n",
       "1  2019-10-13 13:20:00  NLB2C  Oct-2019  \n",
       "2  2021-08-29 12:36:00  NLB2C  Aug-2021  \n",
       "6  2018-10-15 21:46:00  NLB2C  Oct-2018  \n",
       "22 2019-10-18 16:25:00  NLB2C  Oct-2019  \n",
       "23 2020-05-08 18:06:00  NLB2C  May-2020  "
      ]
     },
     "execution_count": 220,
     "metadata": {},
     "output_type": "execute_result"
    }
   ],
   "source": [
    "df_currency_adjusted.head()"
   ]
  },
  {
   "cell_type": "code",
   "execution_count": 221,
   "metadata": {},
   "outputs": [],
   "source": [
    "df_currency_adjusted['order_number'] = df_currency_adjusted.sort_values(['customer_id', 'date'], ascending=[False, True]).groupby(['customer_id']).cumcount() + 1"
   ]
  },
  {
   "cell_type": "code",
   "execution_count": 235,
   "metadata": {},
   "outputs": [
    {
     "data": {
      "text/html": [
       "<div>\n",
       "<style scoped>\n",
       "    .dataframe tbody tr th:only-of-type {\n",
       "        vertical-align: middle;\n",
       "    }\n",
       "\n",
       "    .dataframe tbody tr th {\n",
       "        vertical-align: top;\n",
       "    }\n",
       "\n",
       "    .dataframe thead th {\n",
       "        text-align: right;\n",
       "    }\n",
       "</style>\n",
       "<table border=\"1\" class=\"dataframe\">\n",
       "  <thead>\n",
       "    <tr style=\"text-align: right;\">\n",
       "      <th></th>\n",
       "      <th>customer_id</th>\n",
       "      <th>order</th>\n",
       "      <th>total_sales</th>\n",
       "      <th>date</th>\n",
       "      <th>site</th>\n",
       "      <th>month_yr</th>\n",
       "      <th>order_number</th>\n",
       "    </tr>\n",
       "  </thead>\n",
       "  <tbody>\n",
       "    <tr>\n",
       "      <th>1</th>\n",
       "      <td>A5DDA420-302C-49C1-A85F-00010646EF9F</td>\n",
       "      <td>1000586</td>\n",
       "      <td>100.093917</td>\n",
       "      <td>2019-10-13 13:20:00</td>\n",
       "      <td>NLB2C</td>\n",
       "      <td>Oct-2019</td>\n",
       "      <td>1</td>\n",
       "    </tr>\n",
       "    <tr>\n",
       "      <th>2</th>\n",
       "      <td>18DBDE67-B2B3-4DA4-84F4-0003289438DF</td>\n",
       "      <td>1465844</td>\n",
       "      <td>38.803380</td>\n",
       "      <td>2021-08-29 12:36:00</td>\n",
       "      <td>NLB2C</td>\n",
       "      <td>Aug-2021</td>\n",
       "      <td>4</td>\n",
       "    </tr>\n",
       "    <tr>\n",
       "      <th>6</th>\n",
       "      <td>85D90824-AF8A-42A6-97C8-0005ACF17DBA</td>\n",
       "      <td>845431</td>\n",
       "      <td>48.632430</td>\n",
       "      <td>2018-10-15 21:46:00</td>\n",
       "      <td>NLB2C</td>\n",
       "      <td>Oct-2018</td>\n",
       "      <td>1</td>\n",
       "    </tr>\n",
       "    <tr>\n",
       "      <th>22</th>\n",
       "      <td>7ED91C06-2841-4C2C-A5B6-000854120774</td>\n",
       "      <td>1002639</td>\n",
       "      <td>15.299130</td>\n",
       "      <td>2019-10-18 16:25:00</td>\n",
       "      <td>NLB2C</td>\n",
       "      <td>Oct-2019</td>\n",
       "      <td>1</td>\n",
       "    </tr>\n",
       "    <tr>\n",
       "      <th>23</th>\n",
       "      <td>8F8913D5-51C7-456A-BD6B-00092D174B67</td>\n",
       "      <td>1122255</td>\n",
       "      <td>36.239280</td>\n",
       "      <td>2020-05-08 18:06:00</td>\n",
       "      <td>NLB2C</td>\n",
       "      <td>May-2020</td>\n",
       "      <td>1</td>\n",
       "    </tr>\n",
       "    <tr>\n",
       "      <th>...</th>\n",
       "      <td>...</td>\n",
       "      <td>...</td>\n",
       "      <td>...</td>\n",
       "      <td>...</td>\n",
       "      <td>...</td>\n",
       "      <td>...</td>\n",
       "      <td>...</td>\n",
       "    </tr>\n",
       "    <tr>\n",
       "      <th>182</th>\n",
       "      <td>E8294020-DBA7-44E4-9D9D-002EEC3B2E00</td>\n",
       "      <td>1290087</td>\n",
       "      <td>115.726380</td>\n",
       "      <td>2020-12-18 12:25:00</td>\n",
       "      <td>NLB2C</td>\n",
       "      <td>Dec-2020</td>\n",
       "      <td>4</td>\n",
       "    </tr>\n",
       "    <tr>\n",
       "      <th>184</th>\n",
       "      <td>8E0F2EA9-B50A-42A1-8730-002F9817CE8D</td>\n",
       "      <td>1135247</td>\n",
       "      <td>23.393139</td>\n",
       "      <td>2020-05-23 19:08:00</td>\n",
       "      <td>DEB2C</td>\n",
       "      <td>May-2020</td>\n",
       "      <td>1</td>\n",
       "    </tr>\n",
       "    <tr>\n",
       "      <th>186</th>\n",
       "      <td>34F8DA03-B9FE-4F82-9139-0031AF19B241</td>\n",
       "      <td>1342427</td>\n",
       "      <td>46.051236</td>\n",
       "      <td>2021-03-04 12:49:00</td>\n",
       "      <td>NLB2C</td>\n",
       "      <td>Mar-2021</td>\n",
       "      <td>1</td>\n",
       "    </tr>\n",
       "    <tr>\n",
       "      <th>187</th>\n",
       "      <td>35576D53-BD43-4952-B58B-003372248A7F</td>\n",
       "      <td>813237</td>\n",
       "      <td>13.119645</td>\n",
       "      <td>2018-07-19 16:24:00</td>\n",
       "      <td>DEB2C</td>\n",
       "      <td>Jul-2018</td>\n",
       "      <td>1</td>\n",
       "    </tr>\n",
       "    <tr>\n",
       "      <th>188</th>\n",
       "      <td>0E59D9A2-E4E6-465B-AF78-003559A17769</td>\n",
       "      <td>672279</td>\n",
       "      <td>20.931603</td>\n",
       "      <td>2017-05-11 10:45:00</td>\n",
       "      <td>DEB2C</td>\n",
       "      <td>May-2017</td>\n",
       "      <td>1</td>\n",
       "    </tr>\n",
       "  </tbody>\n",
       "</table>\n",
       "<p>100 rows × 7 columns</p>\n",
       "</div>"
      ],
      "text/plain": [
       "                              customer_id    order  total_sales  \\\n",
       "1    A5DDA420-302C-49C1-A85F-00010646EF9F  1000586   100.093917   \n",
       "2    18DBDE67-B2B3-4DA4-84F4-0003289438DF  1465844    38.803380   \n",
       "6    85D90824-AF8A-42A6-97C8-0005ACF17DBA   845431    48.632430   \n",
       "22   7ED91C06-2841-4C2C-A5B6-000854120774  1002639    15.299130   \n",
       "23   8F8913D5-51C7-456A-BD6B-00092D174B67  1122255    36.239280   \n",
       "..                                    ...      ...          ...   \n",
       "182  E8294020-DBA7-44E4-9D9D-002EEC3B2E00  1290087   115.726380   \n",
       "184  8E0F2EA9-B50A-42A1-8730-002F9817CE8D  1135247    23.393139   \n",
       "186  34F8DA03-B9FE-4F82-9139-0031AF19B241  1342427    46.051236   \n",
       "187  35576D53-BD43-4952-B58B-003372248A7F   813237    13.119645   \n",
       "188  0E59D9A2-E4E6-465B-AF78-003559A17769   672279    20.931603   \n",
       "\n",
       "                   date   site  month_yr  order_number  \n",
       "1   2019-10-13 13:20:00  NLB2C  Oct-2019             1  \n",
       "2   2021-08-29 12:36:00  NLB2C  Aug-2021             4  \n",
       "6   2018-10-15 21:46:00  NLB2C  Oct-2018             1  \n",
       "22  2019-10-18 16:25:00  NLB2C  Oct-2019             1  \n",
       "23  2020-05-08 18:06:00  NLB2C  May-2020             1  \n",
       "..                  ...    ...       ...           ...  \n",
       "182 2020-12-18 12:25:00  NLB2C  Dec-2020             4  \n",
       "184 2020-05-23 19:08:00  DEB2C  May-2020             1  \n",
       "186 2021-03-04 12:49:00  NLB2C  Mar-2021             1  \n",
       "187 2018-07-19 16:24:00  DEB2C  Jul-2018             1  \n",
       "188 2017-05-11 10:45:00  DEB2C  May-2017             1  \n",
       "\n",
       "[100 rows x 7 columns]"
      ]
     },
     "execution_count": 235,
     "metadata": {},
     "output_type": "execute_result"
    }
   ],
   "source": [
    "df_currency_adjusted.head(100)"
   ]
  },
  {
   "cell_type": "code",
   "execution_count": 244,
   "metadata": {},
   "outputs": [
    {
     "data": {
      "text/plain": [
       "4976"
      ]
     },
     "execution_count": 244,
     "metadata": {},
     "output_type": "execute_result"
    }
   ],
   "source": [
    "df_currency_adjusted.order_number.max()"
   ]
  },
  {
   "cell_type": "code",
   "execution_count": 245,
   "metadata": {},
   "outputs": [
    {
     "data": {
      "text/html": [
       "<div>\n",
       "<style scoped>\n",
       "    .dataframe tbody tr th:only-of-type {\n",
       "        vertical-align: middle;\n",
       "    }\n",
       "\n",
       "    .dataframe tbody tr th {\n",
       "        vertical-align: top;\n",
       "    }\n",
       "\n",
       "    .dataframe thead th {\n",
       "        text-align: right;\n",
       "    }\n",
       "</style>\n",
       "<table border=\"1\" class=\"dataframe\">\n",
       "  <thead>\n",
       "    <tr style=\"text-align: right;\">\n",
       "      <th></th>\n",
       "      <th>customer_id</th>\n",
       "      <th>order</th>\n",
       "      <th>total_sales</th>\n",
       "      <th>date</th>\n",
       "      <th>site</th>\n",
       "      <th>month_yr</th>\n",
       "      <th>order_number</th>\n",
       "    </tr>\n",
       "  </thead>\n",
       "  <tbody>\n",
       "    <tr>\n",
       "      <th>250485</th>\n",
       "      <td>3A1E512E-A969-48B7-B562-876B45933357</td>\n",
       "      <td>1446988</td>\n",
       "      <td>5.085465</td>\n",
       "      <td>2021-07-28 12:27:00</td>\n",
       "      <td>DEB2C</td>\n",
       "      <td>Jul-2021</td>\n",
       "      <td>4976</td>\n",
       "    </tr>\n",
       "  </tbody>\n",
       "</table>\n",
       "</div>"
      ],
      "text/plain": [
       "                                 customer_id    order  total_sales  \\\n",
       "250485  3A1E512E-A969-48B7-B562-876B45933357  1446988     5.085465   \n",
       "\n",
       "                      date   site  month_yr  order_number  \n",
       "250485 2021-07-28 12:27:00  DEB2C  Jul-2021          4976  "
      ]
     },
     "execution_count": 245,
     "metadata": {},
     "output_type": "execute_result"
    }
   ],
   "source": [
    "df_currency_adjusted.loc[df_currency_adjusted['order_number'] == 4976]"
   ]
  },
  {
   "cell_type": "code",
   "execution_count": 247,
   "metadata": {},
   "outputs": [
    {
     "data": {
      "text/html": [
       "<div>\n",
       "<style scoped>\n",
       "    .dataframe tbody tr th:only-of-type {\n",
       "        vertical-align: middle;\n",
       "    }\n",
       "\n",
       "    .dataframe tbody tr th {\n",
       "        vertical-align: top;\n",
       "    }\n",
       "\n",
       "    .dataframe thead th {\n",
       "        text-align: right;\n",
       "    }\n",
       "</style>\n",
       "<table border=\"1\" class=\"dataframe\">\n",
       "  <thead>\n",
       "    <tr style=\"text-align: right;\">\n",
       "      <th></th>\n",
       "      <th>customer_id</th>\n",
       "      <th>order</th>\n",
       "      <th>total_sales</th>\n",
       "      <th>date</th>\n",
       "      <th>site</th>\n",
       "      <th>month_yr</th>\n",
       "      <th>order_number</th>\n",
       "    </tr>\n",
       "  </thead>\n",
       "  <tbody>\n",
       "    <tr>\n",
       "      <th>250162</th>\n",
       "      <td>3A1E512E-A969-48B7-B562-876B45933357</td>\n",
       "      <td>638279</td>\n",
       "      <td>9.358965</td>\n",
       "      <td>2017-01-02 08:14:00</td>\n",
       "      <td>DEB2C</td>\n",
       "      <td>Jan-2017</td>\n",
       "      <td>1</td>\n",
       "    </tr>\n",
       "    <tr>\n",
       "      <th>250163</th>\n",
       "      <td>3A1E512E-A969-48B7-B562-876B45933357</td>\n",
       "      <td>638280</td>\n",
       "      <td>8.743581</td>\n",
       "      <td>2017-01-02 08:14:00</td>\n",
       "      <td>DEB2C</td>\n",
       "      <td>Jan-2017</td>\n",
       "      <td>2</td>\n",
       "    </tr>\n",
       "    <tr>\n",
       "      <th>250164</th>\n",
       "      <td>3A1E512E-A969-48B7-B562-876B45933357</td>\n",
       "      <td>638281</td>\n",
       "      <td>11.658108</td>\n",
       "      <td>2017-01-02 08:14:00</td>\n",
       "      <td>DEB2C</td>\n",
       "      <td>Jan-2017</td>\n",
       "      <td>3</td>\n",
       "    </tr>\n",
       "    <tr>\n",
       "      <th>250165</th>\n",
       "      <td>3A1E512E-A969-48B7-B562-876B45933357</td>\n",
       "      <td>638282</td>\n",
       "      <td>37.435860</td>\n",
       "      <td>2017-01-02 08:14:00</td>\n",
       "      <td>DEB2C</td>\n",
       "      <td>Jan-2017</td>\n",
       "      <td>4</td>\n",
       "    </tr>\n",
       "    <tr>\n",
       "      <th>250166</th>\n",
       "      <td>3A1E512E-A969-48B7-B562-876B45933357</td>\n",
       "      <td>1080179</td>\n",
       "      <td>12.777765</td>\n",
       "      <td>2020-03-23 07:43:00</td>\n",
       "      <td>DEB2C</td>\n",
       "      <td>Mar-2020</td>\n",
       "      <td>4959</td>\n",
       "    </tr>\n",
       "    <tr>\n",
       "      <th>...</th>\n",
       "      <td>...</td>\n",
       "      <td>...</td>\n",
       "      <td>...</td>\n",
       "      <td>...</td>\n",
       "      <td>...</td>\n",
       "      <td>...</td>\n",
       "      <td>...</td>\n",
       "    </tr>\n",
       "    <tr>\n",
       "      <th>260557</th>\n",
       "      <td>3A1E512E-A969-48B7-B562-876B45933357</td>\n",
       "      <td>640455</td>\n",
       "      <td>13.299132</td>\n",
       "      <td>2017-01-09 11:08:00</td>\n",
       "      <td>DEB2C</td>\n",
       "      <td>Jan-2017</td>\n",
       "      <td>40</td>\n",
       "    </tr>\n",
       "    <tr>\n",
       "      <th>260558</th>\n",
       "      <td>3A1E512E-A969-48B7-B562-876B45933357</td>\n",
       "      <td>641040</td>\n",
       "      <td>13.205115</td>\n",
       "      <td>2017-01-11 09:57:00</td>\n",
       "      <td>DEB2C</td>\n",
       "      <td>Jan-2017</td>\n",
       "      <td>43</td>\n",
       "    </tr>\n",
       "    <tr>\n",
       "      <th>260559</th>\n",
       "      <td>3A1E512E-A969-48B7-B562-876B45933357</td>\n",
       "      <td>641270</td>\n",
       "      <td>19.059810</td>\n",
       "      <td>2017-01-12 07:59:00</td>\n",
       "      <td>DEB2C</td>\n",
       "      <td>Jan-2017</td>\n",
       "      <td>45</td>\n",
       "    </tr>\n",
       "    <tr>\n",
       "      <th>260560</th>\n",
       "      <td>3A1E512E-A969-48B7-B562-876B45933357</td>\n",
       "      <td>641271</td>\n",
       "      <td>13.299132</td>\n",
       "      <td>2017-01-12 07:59:00</td>\n",
       "      <td>DEB2C</td>\n",
       "      <td>Jan-2017</td>\n",
       "      <td>46</td>\n",
       "    </tr>\n",
       "    <tr>\n",
       "      <th>260561</th>\n",
       "      <td>3A1E512E-A969-48B7-B562-876B45933357</td>\n",
       "      <td>641272</td>\n",
       "      <td>9.358965</td>\n",
       "      <td>2017-01-12 07:59:00</td>\n",
       "      <td>DEB2C</td>\n",
       "      <td>Jan-2017</td>\n",
       "      <td>47</td>\n",
       "    </tr>\n",
       "  </tbody>\n",
       "</table>\n",
       "<p>4976 rows × 7 columns</p>\n",
       "</div>"
      ],
      "text/plain": [
       "                                 customer_id    order  total_sales  \\\n",
       "250162  3A1E512E-A969-48B7-B562-876B45933357   638279     9.358965   \n",
       "250163  3A1E512E-A969-48B7-B562-876B45933357   638280     8.743581   \n",
       "250164  3A1E512E-A969-48B7-B562-876B45933357   638281    11.658108   \n",
       "250165  3A1E512E-A969-48B7-B562-876B45933357   638282    37.435860   \n",
       "250166  3A1E512E-A969-48B7-B562-876B45933357  1080179    12.777765   \n",
       "...                                      ...      ...          ...   \n",
       "260557  3A1E512E-A969-48B7-B562-876B45933357   640455    13.299132   \n",
       "260558  3A1E512E-A969-48B7-B562-876B45933357   641040    13.205115   \n",
       "260559  3A1E512E-A969-48B7-B562-876B45933357   641270    19.059810   \n",
       "260560  3A1E512E-A969-48B7-B562-876B45933357   641271    13.299132   \n",
       "260561  3A1E512E-A969-48B7-B562-876B45933357   641272     9.358965   \n",
       "\n",
       "                      date   site  month_yr  order_number  \n",
       "250162 2017-01-02 08:14:00  DEB2C  Jan-2017             1  \n",
       "250163 2017-01-02 08:14:00  DEB2C  Jan-2017             2  \n",
       "250164 2017-01-02 08:14:00  DEB2C  Jan-2017             3  \n",
       "250165 2017-01-02 08:14:00  DEB2C  Jan-2017             4  \n",
       "250166 2020-03-23 07:43:00  DEB2C  Mar-2020          4959  \n",
       "...                    ...    ...       ...           ...  \n",
       "260557 2017-01-09 11:08:00  DEB2C  Jan-2017            40  \n",
       "260558 2017-01-11 09:57:00  DEB2C  Jan-2017            43  \n",
       "260559 2017-01-12 07:59:00  DEB2C  Jan-2017            45  \n",
       "260560 2017-01-12 07:59:00  DEB2C  Jan-2017            46  \n",
       "260561 2017-01-12 07:59:00  DEB2C  Jan-2017            47  \n",
       "\n",
       "[4976 rows x 7 columns]"
      ]
     },
     "execution_count": 247,
     "metadata": {},
     "output_type": "execute_result"
    }
   ],
   "source": [
    "df_currency_adjusted.loc[df_currency_adjusted['customer_id'] == '3A1E512E-A969-48B7-B562-876B45933357']"
   ]
  },
  {
   "cell_type": "code",
   "execution_count": 250,
   "metadata": {},
   "outputs": [],
   "source": [
    "df_currency_adjusted.to_pickle('df_currency_adjusted.pkl')"
   ]
  },
  {
   "cell_type": "code",
   "execution_count": null,
   "metadata": {},
   "outputs": [],
   "source": [
    "df_currency_adjusted.loc[df_currency_adjusted['customer_id']"
   ]
  }
 ],
 "metadata": {
  "kernelspec": {
   "display_name": "Python 3",
   "language": "python",
   "name": "python3"
  },
  "language_info": {
   "codemirror_mode": {
    "name": "ipython",
    "version": 3
   },
   "file_extension": ".py",
   "mimetype": "text/x-python",
   "name": "python",
   "nbconvert_exporter": "python",
   "pygments_lexer": "ipython3",
   "version": "3.8.5"
  }
 },
 "nbformat": 4,
 "nbformat_minor": 4
}
